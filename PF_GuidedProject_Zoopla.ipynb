{
 "cells": [
  {
   "cell_type": "markdown",
   "metadata": {},
   "source": [
    "<div class=\"alert alert-block alert-info\" style=\"background-color: #323031; border: 0px; -moz-border-radius: 10px; -webkit-border-radius: 10px;\">\n",
    "<div style=\"color: #ffffff\">\n",
    "<h1>Python Fundamentals Guided Project - Zoopla Rents</h1>\n",
    "\n",
    "<br>\n",
    "\n",
    "<span style=\"font-size:90%\">by Ximin Chen & Michael Wiemers<br>\n",
    "12.05.2022</span>\n",
    "</div>\n",
    "</div>"
   ]
  },
  {
   "cell_type": "markdown",
   "metadata": {},
   "source": [
    "<div  class=\"alert alert-block alert-info\" style=\"color:#1b1b1b; background-color:#f2f2f2; border: 0px; -moz-border-radius: 10px; -webkit-border-radius: 10px;\">\n",
    "\n",
    "#### Project description\n",
    "\n",
    "In this guided project, you will explore a **dataset on apartments from Zoopla**. The goal of the project is to practice and consolidate the techniques and skills you have learned in the Python Fundamentals Series and to challenge yourself to combine different techniques in creative ways. The project will also introduce new techniques that have not been covered in the Python Fundamentals workshops.\n",
    "\n",
    "Time to complete: 3-4 hours\n",
    "\n",
    "#### What to do if you get stuck\n",
    "\n",
    "Parts of this project are meant to be challenging and stretch your Python skills and you will most likely have to do a web search to find help online. Being able to use effective search terms and identify useful resources is an important competency for a programmer at any level and we therefore encourage to practice this when getting stuck. If you require 1-2-1 support, please see our website for information on how to join our [daily Coding drop-ins on Teams](https://info.lse.ac.uk/current-students/digital-skills-lab/drop-in-sessions) to get help from a trainer.\n",
    "\n",
    "\n",
    "#### Learning objectives\n",
    "- <a href=\"#download-a-csv\"><b>Download a csv file</b> using the request library</a>\n",
    "- <a href=\"#convert-data-to-list-of-lists\"><b>Parse strings</b> with csv.reader into a list of lists</a>\n",
    "- <a href=\"#checking-data-integrity\">Basic <b>data integrity checks</b></a>\n",
    "    - Test for number of elements in each row\n",
    "    - Remove whitespace\n",
    "    - Find and remove rows with missing values\n",
    "- <a href=\"#exploring-data\">Basic <b>exploratory data analysis</b></a>\n",
    "    - Finding the maximum rent in the dataset\n",
    "    - Compute summary stats\n",
    "    - Finding the most common property types\n",
    "- <a href=\"#bonus-challenge\">Use <b>list comprehensions</b> to create lists with for loops more efficiently</a>\n",
    "\n",
    "Use the links to navigate to sections. Use the Home button on your keyboard to return to top of the notebook.\n",
    "\n",
    "</div>"
   ]
  },
  {
   "cell_type": "markdown",
   "metadata": {},
   "source": [
    "<img src=\"https://www.dropbox.com/s/zpgghar1vx96qcr/regents_park.jpg?raw=1\" width=\"80%\">"
   ]
  },
  {
   "cell_type": "markdown",
   "metadata": {},
   "source": [
    "<br>\n",
    "\n",
    "### The Zoopla dataset"
   ]
  },
  {
   "cell_type": "markdown",
   "metadata": {},
   "source": [
    "The dataset you will be working with contains data scraped from Zoopla's site on 7 Sep 2020. \n",
    "\n",
    "It contains 9969 data points of rental properties within 3 miles from LSE. \n",
    "\n",
    "You can see a screenshot of the dataset and a list with all column names below."
   ]
  },
  {
   "cell_type": "markdown",
   "metadata": {},
   "source": [
    "#### Columns:\n",
    " - Monthly rent\n",
    " - Location\n",
    " - Bedrooms\n",
    " - Bathrooms\n",
    " - Receptions\n",
    " - Descriptions\n",
    " - Nearest Station\n",
    " - Distance (miles)\n",
    " - Long Description\n",
    " - Available\n",
    " - Link\n",
    " "
   ]
  },
  {
   "cell_type": "markdown",
   "metadata": {},
   "source": [
    "<img src=\"https://www.dropbox.com/s/jtf4z8hktyb3rvh/zoopla.png?raw=1\" width=\"2000px\">"
   ]
  },
  {
   "cell_type": "markdown",
   "metadata": {},
   "source": [
    "---"
   ]
  },
  {
   "cell_type": "markdown",
   "metadata": {},
   "source": [
    "<div class=\"alert alert-block alert-info\" style=\"color: white; background-color: #323031; border: 0px; -moz-border-radius: 10px; -webkit-border-radius: 10px;\">\n",
    "\n",
    "<h3><a id=\"download-a-csv\" style=\"color:white\">Downloading the data</a></h3>\n",
    "    \n",
    "</div>    "
   ]
  },
  {
   "cell_type": "markdown",
   "metadata": {},
   "source": [
    "Instead of downloading the data manually, we will use Python to do so. Being able to download a csv file programmatically and knowing how to correctly parse the downloaded string into a list of list, which we can work with, is a useful skill to have. If you have taken our Python course for tabular data, you may know that we can use pandas to load a csv file very easily. However, here, we focus on the techniques covered in our Python Fundamentals series."
   ]
  },
  {
   "cell_type": "markdown",
   "metadata": {},
   "source": [
    "The dataset itself is located at the following url:\n",
    "\n",
    "https://raw.githubusercontent.com/mwiemers/datasets/main/zoopla.csv"
   ]
  },
  {
   "cell_type": "markdown",
   "metadata": {},
   "source": [
    "To download the data in the first step, we need the **requests** library, which is a simple, yet elegant, HTTP library that allows you to send HTTP requests extremely easily, to download data from websites. \n",
    "\n",
    "The `request.get()` method is used to send a GET request to the specified url, which if successful will return the websites content. The content and much more information about the website is stored in the Response object that the `request.get()` method returns. We use the variable `response` to store that Response object.\n",
    "\n",
    "For this example, we will use the main zoopla domain - `'https://www.zoopla.co.uk/'`. \n",
    "\n",
    "We pass the url to the `request.get()` method to request the websites content."
   ]
  },
  {
   "cell_type": "code",
   "execution_count": 1,
   "metadata": {},
   "outputs": [
    {
     "name": "stdout",
     "output_type": "stream",
     "text": [
      "<Response [200]>\n"
     ]
    }
   ],
   "source": [
    "import requests\n",
    "\n",
    "url = 'https://www.zoopla.co.uk/'\n",
    "\n",
    "response = requests.get(url)\n",
    "print(response)"
   ]
  },
  {
   "cell_type": "markdown",
   "metadata": {},
   "source": [
    "We get the 200 response, which means that our request was successful and we could download the websites content, which is now stored in the `response` variable.\n",
    "\n",
    "<br>\n",
    "\n",
    "### Task 1 - Download the zoopla csv\n",
    "Now it is your turn to download the zoopla dataset using the url https://raw.githubusercontent.com/mwiemers/datasets/main/zoopla.csv\n",
    "\n",
    "1. Import the requests library\n",
    "2. Create a variable for the url\n",
    "3. Get the response for the url\n",
    "4. Print the response"
   ]
  },
  {
   "cell_type": "markdown",
   "metadata": {},
   "source": [
    "<details><summary>Click here for the solution</summary>\n",
    "\n",
    "<pre>\n",
    "# import requests\n",
    "import requests\n",
    "\n",
    "# set a variable for the url\n",
    "url = \"https://raw.githubusercontent.com/ximinchen/DSL-Project/main/zoopla_rents.csv\"\n",
    "\n",
    "# get the response\n",
    "response = requests.get(url)\n",
    "\n",
    "# print the response\n",
    "print(response)\n",
    "\n",
    "</pre>\n",
    "</details>"
   ]
  },
  {
   "cell_type": "code",
   "execution_count": 5,
   "metadata": {},
   "outputs": [
    {
     "name": "stdout",
     "output_type": "stream",
     "text": [
      "<Response [200]>\n"
     ]
    }
   ],
   "source": [
    "import requests\n",
    "\n",
    "url = 'https://raw.githubusercontent.com/mwiemers/datasets/main/zoopla.csv'\n",
    "\n",
    "response = requests.get(url)\n",
    "print(response)"
   ]
  },
  {
   "cell_type": "markdown",
   "metadata": {},
   "source": [
    "<br>\n",
    "\n",
    "<br>\n",
    "\n",
    "<div class=\"alert alert-block alert-info\" style=\"color: white; background-color: #323031; border: 0px; -moz-border-radius: 10px; -webkit-border-radius: 10px;\">\n",
    "\n",
    "<h3><a id=\"convert-data-to-list-of-lists\" style=\"color:white\">Converting the data to a list of lists</a></h3>\n",
    "    \n",
    "</div>    "
   ]
  },
  {
   "cell_type": "markdown",
   "metadata": {},
   "source": [
    "We can access the websites content with the `response.text` attribute. This will show the entire html code or in this case the data, since we downloaded an csv file, as one long string. Let us save the string in the variable `content`."
   ]
  },
  {
   "cell_type": "code",
   "execution_count": 13,
   "metadata": {},
   "outputs": [],
   "source": [
    "content = response.text"
   ]
  },
  {
   "cell_type": "markdown",
   "metadata": {},
   "source": [
    "Let us have a look at the content variable to check that we downloaded the correct data. In the example below, we only print the first 1000 characters of the string. The values are separated by commas. The lines are separated by `\\n`, which is the special character for line breaks.\n",
    "\n",
    "```Python\n",
    "content[:1000]\n",
    "```\n",
    "\n",
    "<img src=\"https://www.dropbox.com/s/8g3o2oewvuw7t0p/csv_string.png?raw=1\">"
   ]
  },
  {
   "cell_type": "markdown",
   "metadata": {},
   "source": [
    "We can easily split this string into a list of strings for each line using `content.split('\\n')`. The split method splits a string into a list of smaller strings based on the character passed to the method. Here, the method cuts off the start of the list whenever it finds a `'\\n'` add this part to the list and keeps doing this until it reaches the end of the string.\n",
    "\n",
    "Below we print the first 5 rows of the list we get."
   ]
  },
  {
   "cell_type": "code",
   "execution_count": 14,
   "metadata": {},
   "outputs": [
    {
     "data": {
      "text/plain": [
       "['Monthly Rent,Location,Bedrooms,Bathrooms,Receptions,Description,Nearest Station,Distance (miles),Long Description,Available,Link\\r',\n",
       " '2167,\"14 Stable Walk, London E1\",,1,1,Studio ,Aldgate East,0.2,\"Beautifully presented one bedroom studio in the phase Neroli House features a spacious living room with an open kitchen, with spacious double bedroom, built-in wardrobe and a large luxurious bathroom. Situated just 3 minutes\\' walk away from Aldgate East.\",Available immediately,https://www.zoopla.co.uk/to-rent/details/56147079\\r',\n",
       " '2578,\"Exchange Gardens, London SW8\",2,2,2,2 bed flat ,Vauxhall,0.2,The apartment is located on the fourth floor with lift and offers 860 sq ft of living space. The property benefits from an open plan kitchen / reception room..,Available immediately,https://www.zoopla.co.uk/to-rent/details/56147140\\r',\n",
       " '1290,\"Commercial Street, London E1\",1,1,1,1 bed flat ,Shoreditch High Street,0.2,\"City Realtor is proud to present this cozy one bedroom flat situated in an iconic location of Commercial Street. The property is naturally bright and airy. The building and apartment having been newly refurbished, with its good ceiling height, solid ...\",Available immediately,https://www.zoopla.co.uk/to-rent/details/56147129\\r',\n",
       " '1250,\"Commercial Street, London E1\",,1,1,Studio ,Shoreditch High Street,0.2,\"City Realtor is proud to present this cozy Studio flat situated in an iconic location of Commercial Street. The property is naturally bright and airy. The building and apartment having been newly refurbished, with its good ceiling height, solid ...\",Available immediately,https://www.zoopla.co.uk/to-rent/details/56147119\\r']"
      ]
     },
     "execution_count": 14,
     "metadata": {},
     "output_type": "execute_result"
    }
   ],
   "source": [
    "content = content.split('\\n')\n",
    "content[:5]"
   ]
  },
  {
   "cell_type": "markdown",
   "metadata": {},
   "source": [
    "We now have a list of strings, where each string in the list represents a row in our data. In this format, we cannot easily select values from each row, since all values from a row are stored in a string. It would be much easier, if  each string itself would be split into a list. That way, we can easily select values from a particular row, based on their position.\n",
    " \n",
    "Effectively, we need to generate a new list of lists by iterating through each element of the content list and splitting each row into a list in itself based on the comma character. There is a much easier way to do this with the reader function from the **csv** library.\n",
    "\n",
    "The code below uses the reader function to parse the content list of strings into a list of lists. The reader function does not itself return a list, but a reader Object. We have to use the list function to convert it into a list of lists."
   ]
  },
  {
   "cell_type": "code",
   "execution_count": 15,
   "metadata": {},
   "outputs": [
    {
     "data": {
      "text/plain": [
       "[['Monthly Rent',\n",
       "  'Location',\n",
       "  'Bedrooms',\n",
       "  'Bathrooms',\n",
       "  'Receptions',\n",
       "  'Description',\n",
       "  'Nearest Station',\n",
       "  'Distance (miles)',\n",
       "  'Long Description',\n",
       "  'Available',\n",
       "  'Link'],\n",
       " ['2167',\n",
       "  '14 Stable Walk, London E1',\n",
       "  '',\n",
       "  '1',\n",
       "  '1',\n",
       "  'Studio ',\n",
       "  'Aldgate East',\n",
       "  '0.2',\n",
       "  \"Beautifully presented one bedroom studio in the phase Neroli House features a spacious living room with an open kitchen, with spacious double bedroom, built-in wardrobe and a large luxurious bathroom. Situated just 3 minutes' walk away from Aldgate East.\",\n",
       "  'Available immediately',\n",
       "  'https://www.zoopla.co.uk/to-rent/details/56147079']]"
      ]
     },
     "execution_count": 15,
     "metadata": {},
     "output_type": "execute_result"
    }
   ],
   "source": [
    "import csv\n",
    "\n",
    "zoopla = list(csv.reader(content))\n",
    "\n",
    "zoopla[:2]"
   ]
  },
  {
   "cell_type": "markdown",
   "metadata": {},
   "source": [
    "<div class=\"alert alert-block alert-info\" style=\"background-color:#e0f0ff;color:#033962\">\n",
    "If you are interested, to learn more about the csv library and how some of the arguments of the reader function work and also how to write a csv file to the disk, we would recommend the <a href=\"https://realpython.com/python-csv/\">Reading and Writing CSV Files in Python</a> from RealPython.com\n",
    "</div>\n"
   ]
  },
  {
   "cell_type": "markdown",
   "metadata": {},
   "source": [
    "<br>\n",
    "\n",
    "### Task 2 - Converting the Zoopla dataset into a list of lists\n",
    "\n",
    "Carry out the above steps yourself to practice the process of downloading data.\n",
    "\n",
    "1. Import the csv library\n",
    "1. Use the text attribute to receive the dataset as a string and store the string with the variable named content.\n",
    "2. Split the content string into a list based on the line break character and re-assign to the variable content.\n",
    "3. Use the reader function from the csv library to convert the list of strings to a list of lists.\n",
    "4. How many rows does the dataset have?\n",
    "5. Print the column names from the first row\n",
    "5. Print the last row and try to map each value with its corresponding column name to make sense of the values."
   ]
  },
  {
   "cell_type": "markdown",
   "metadata": {},
   "source": [
    "<details><summary>Click here for the solution</summary>\n",
    "\n",
    "<pre>\n",
    "import csv\n",
    "\n",
    "content = response.text\n",
    "content = content.split('\\n')\n",
    "\n",
    "zoopla = list(csv.reader(content))\n",
    "\n",
    "print('Number of rows')\n",
    "print(len(zoopla))\n",
    "\n",
    "display(zoopla[0])\n",
    "\n",
    "display(zoopla[-1])\n",
    "</pre>\n",
    "</details>"
   ]
  },
  {
   "cell_type": "code",
   "execution_count": null,
   "metadata": {},
   "outputs": [],
   "source": []
  },
  {
   "cell_type": "markdown",
   "metadata": {},
   "source": [
    "<br>\n",
    "<br>\n",
    "\n",
    "### Task 3 - Write a read_csv function\n",
    "\n",
    "Let us review the different steps we have performed so far:\n",
    "\n",
    "1. Download the websites content with the requests.get() method\n",
    "2. Get the files content as a string with the text attribute\n",
    "3. Split the string into a list of strings, where each string represents a row in the data\n",
    "4. Use the reader function from the csv library to transform the list of strings into a list of lists.\n",
    "\n",
    "A process like this should be combined into a function, so that we can simply use the functions name to perform these steps at multiple points in our notebook. We might, for instance, want to download a different dataset or reload the original dataset at some point in later our analysis.\n",
    "\n",
    "*Write a function called **read_csv** to carry out the above four steps, which you have already written the code for in Task 1 and Task 2.*\n",
    "\n",
    "Test whether your function *returns* the same dataset as previously, by printing the number of rows, the first and the last row and compare the output to what you got in Task 2."
   ]
  },
  {
   "cell_type": "markdown",
   "metadata": {},
   "source": [
    "<details><summary>Click here for a hint</summary>\n",
    "\n",
    "The function only needs the url as an argument and should return the parsed dataset. This is a function that can be used for any dataset and not only the Zoopla rent data. The argument names should reflect that and you shouldn't use <b>zoopla_url</b> or <b>zoopla_data</b> as variable names!\n",
    "\n",
    "</details>"
   ]
  },
  {
   "cell_type": "markdown",
   "metadata": {},
   "source": [
    "<details><summary>Click here for another hint</summary>\n",
    "\n",
    "Below is a scaffold to work from. The body of the function, the code between the def and return statement, is left empty for you to fill in.\n",
    "    \n",
    "<pre>\n",
    "import requests\n",
    "import csv\n",
    "\n",
    "def read_csv(url):\n",
    "\n",
    "        \n",
    "    return data\n",
    "</pre>\n",
    "\n",
    "</details>"
   ]
  },
  {
   "cell_type": "markdown",
   "metadata": {},
   "source": [
    "<details><summary>Click here for the solution</summary>\n",
    "\n",
    "<pre>\n",
    "import requests\n",
    "import csv\n",
    "\n",
    "def read_csv(url):\n",
    "    response = requests.get(url)\n",
    "    \n",
    "    content = response.text\n",
    "    content = content.split('\\n')\n",
    "    \n",
    "    data = list(csv.reader(content))\n",
    "    \n",
    "    return data\n",
    "\n",
    "zoopla = read_csv(url)\n",
    "\n",
    "print('Number of rows')\n",
    "print(len(zoopla))\n",
    "\n",
    "display(zoopla[0])\n",
    "\n",
    "display(zoopla[-1])\n",
    "</pre>\n",
    "</details>"
   ]
  },
  {
   "cell_type": "code",
   "execution_count": null,
   "metadata": {},
   "outputs": [],
   "source": []
  },
  {
   "cell_type": "markdown",
   "metadata": {},
   "source": [
    "<br>\n",
    "\n",
    "<br>\n",
    "\n",
    "<div class=\"alert alert-block alert-info\" style=\"color: white; background-color: #323031; border: 0px; -moz-border-radius: 10px; -webkit-border-radius: 10px;\">\n",
    "\n",
    "<h3><a id=\"checking-data-integrity\" style=\"color:white\">Checking data integrity</a></h3>\n",
    "    \n",
    "</div>   "
   ]
  },
  {
   "cell_type": "markdown",
   "metadata": {},
   "source": [
    "Whenever you import data, before jumping straight into exploring the data, you want to run a few basic tests to make sure that the data is in the correct format.\n",
    "\n",
    "For this dataset, you want to ensure that the data has been parsed correctly, that there are no leading or trailing whitespaces and get a sense of the number and distribution of missing values.\n",
    "\n",
    "### 1) Correct parsing of the data\n",
    "\n",
    "Let us start by doing a basic sanity check to test whether the data has been parsed correctly. If each row has been parsed correctly, that is, each row has been split correctly into the different columns as specific in the first row, each row should have as many elements as the first row.\n",
    "\n",
    "<br>\n",
    "<br>\n",
    "\n",
    "### Task 4 - Check for correct parsing of the rows\n",
    "\n",
    "We want to count the number of rows that have a number of elements unequal to the first row. The count should be equal to 0, since all rows have the same number of elements."
   ]
  },
  {
   "cell_type": "markdown",
   "metadata": {},
   "source": [
    "<details><summary>Click here for a hint</summary>\n",
    "\n",
    "You have to use a for loop.\n",
    "\n",
    "</details>"
   ]
  },
  {
   "cell_type": "markdown",
   "metadata": {},
   "source": [
    "<details><summary>Click here for another hint</summary>\n",
    "\n",
    "1. Create a counter variable that is intially set to 0 before the for loop.\n",
    "2. Use a for loop to iterate over the rows of the dataset.\n",
    "3. Use an if statement to test whether the number of elements in a row is unequal to the number of elements in the first row.\n",
    "4. Increase the counter by 1 inside the if statement.\n",
    "\n",
    "</details>"
   ]
  },
  {
   "cell_type": "markdown",
   "metadata": {},
   "source": [
    "<details><summary>Click here for the solution</summary>\n",
    "\n",
    "<pre>\n",
    "# creating the counter variable\n",
    "cnt = 0 \n",
    "\n",
    "# looping over the 'rows' in the zoopla list of list\n",
    "for row in zoopla: \n",
    "    # check whether number of elements in row equal to number of columns\n",
    "    if len(row) != len(zoopla[0]): #\n",
    "        cnt += 1\n",
    "        \n",
    "print(cnt)\n",
    "</pre>\n",
    "</details>"
   ]
  },
  {
   "cell_type": "code",
   "execution_count": null,
   "metadata": {},
   "outputs": [],
   "source": []
  },
  {
   "cell_type": "markdown",
   "metadata": {},
   "source": [
    "&nbsp;\n",
    "\n",
    "### 2) Removing leading and trailing whitespace"
   ]
  },
  {
   "cell_type": "markdown",
   "metadata": {},
   "source": [
    "Leading and trailing whitespace can easily cause problems in your analysis, as you might get, for instance, an error message when trying to select values from your dataset.\n",
    "\n",
    "For example, the value `'Studio '` has a space at the end.\n",
    "\n",
    "If you were to look for rows with the value `'Studio'` (no whitespaces), you will miss some or all of the values, since they will actually contain a trailing whitespace, as in the first row below. It is therefore important to remove all leading and trailing whitespace before further analyzing the data."
   ]
  },
  {
   "cell_type": "code",
   "execution_count": 9,
   "metadata": {},
   "outputs": [
    {
     "data": {
      "text/plain": [
       "['2167',\n",
       " '14 Stable Walk, London E1',\n",
       " '',\n",
       " '1',\n",
       " '1',\n",
       " 'Studio ',\n",
       " 'Aldgate East',\n",
       " '0.2',\n",
       " \"Beautifully presented one bedroom studio in the phase Neroli House features a spacious living room with an open kitchen, with spacious double bedroom, built-in wardrobe and a large luxurious bathroom. Situated just 3 minutes' walk away from Aldgate East.\",\n",
       " 'Available immediately',\n",
       " 'https://www.zoopla.co.uk/to-rent/details/56147079']"
      ]
     },
     "execution_count": 9,
     "metadata": {},
     "output_type": "execute_result"
    }
   ],
   "source": [
    "zoopla[1]"
   ]
  },
  {
   "cell_type": "markdown",
   "metadata": {},
   "source": [
    "<br>\n",
    "\n",
    "You can use the `.strip()` method on a string to remove leading and trailing white space. As you can see, the `.strip()` method only removes the leading and trailing white space. The spaces between the words are not removed."
   ]
  },
  {
   "cell_type": "code",
   "execution_count": 10,
   "metadata": {},
   "outputs": [
    {
     "name": "stdout",
     "output_type": "stream",
     "text": [
      "        this is a string      \n",
      "this is a string\n"
     ]
    }
   ],
   "source": [
    "my_string = '        this is a string      '\n",
    "print(my_string)\n",
    "\n",
    "my_string = my_string.strip()\n",
    "print(my_string)"
   ]
  },
  {
   "cell_type": "markdown",
   "metadata": {},
   "source": [
    "When using the print function to print a string, the quotes will be omitted, which makes it difficult to notice the trailing whitespace. We can use jupyter's display function to show the quotes around the string."
   ]
  },
  {
   "cell_type": "code",
   "execution_count": 11,
   "metadata": {},
   "outputs": [
    {
     "data": {
      "text/plain": [
       "'        this is a string      '"
      ]
     },
     "metadata": {},
     "output_type": "display_data"
    },
    {
     "data": {
      "text/plain": [
       "'this is a string'"
      ]
     },
     "metadata": {},
     "output_type": "display_data"
    }
   ],
   "source": [
    "my_string = '        this is a string      '\n",
    "display(my_string)\n",
    "\n",
    "my_string = my_string.strip()\n",
    "display(my_string)"
   ]
  },
  {
   "cell_type": "markdown",
   "metadata": {},
   "source": [
    "<br>\n",
    "\n",
    "### Task 5 - Removing leading or trailing whitespace\n",
    "\n",
    "We want to create a new version of the data where any leading and trailing whitespace are removed.\n",
    "\n",
    "You will have to create a new list for the data, that is being filled with stripped values of the zoopla list of lists. Call this new version of the data **zoopla_stripped**.\n",
    "\n",
    "Check the first element in **zoopla_stripped** . Are the whitespaces gone now?"
   ]
  },
  {
   "cell_type": "markdown",
   "metadata": {},
   "source": [
    "<details><summary>Click here for a hint</summary>\n",
    "\n",
    "You have to use a nested for loop. The main loop loops over the zoopla dataset, which we created in the previous step. The second loop inside the main loop loops over the values from each row and uses the stripped values for the new version zoopla_stripped.\n",
    "\n",
    "</details>"
   ]
  },
  {
   "cell_type": "markdown",
   "metadata": {},
   "source": [
    "<details><summary>Click here for another hint</summary>\n",
    "\n",
    "1. Before your for loop, create an empty list to store the new values that have been stripped of leading and trailing whitespaces. Name this list <b>zoopla_stripped</b>.\n",
    "2. Write a nested for loop, that is, a main for loop with another for loop inside it. The main loop loops over the rows in the <b>zoopla</b> list of lists. Inside this main for loop, create another empty list to store stripped values. Name it <b>row_stripped</b>. \n",
    "3. Now add a second for loop inside the main loop. The second loop loops over the values of each row and appends the stripped value to the <b>row_stripped</b> list. \n",
    "4. Finally, append each <b>row_stripped</b> to the <b>zoopla_stripped</b> list.\n",
    "\n",
    "</details>"
   ]
  },
  {
   "cell_type": "markdown",
   "metadata": {},
   "source": [
    "<details><summary>Click here for the solution</summary>\n",
    "\n",
    "<pre>\n",
    "# new list for stripped data\n",
    "zoopla_stripped = []\n",
    "\n",
    "# looping over 'rows' in zoopla list of lists\n",
    "for row in zoopla:\n",
    "    # new list for the stripped version of current row\n",
    "    row_stripped = []\n",
    "    \n",
    "    # use for loop to select each value and append stripped value to row_stripped\n",
    "    for value in row:\n",
    "        row_stripped.append(value.strip())\n",
    "\n",
    "    # add stripped row to zoopla_stripped\n",
    "    zoopla_stripped.append(row_stripped)\n",
    "</pre>\n",
    "</details>"
   ]
  },
  {
   "cell_type": "code",
   "execution_count": null,
   "metadata": {},
   "outputs": [],
   "source": []
  },
  {
   "cell_type": "markdown",
   "metadata": {},
   "source": [
    "<br>\n",
    "\n",
    "### Task 6 - Turn the nested for loop into a function\n",
    "\n",
    "Now that we have the nested for loop, try and turn it into a function. Name the function **remove_whitespace**.\n",
    "\n",
    "Check that the function works and that the whitespaces are gone in the list it returns."
   ]
  },
  {
   "cell_type": "markdown",
   "metadata": {},
   "source": [
    "<details><summary>Click here for the solution</summary>\n",
    "\n",
    "<pre>\n",
    "def remove_whitespace(data):\n",
    "    data_stripped = []\n",
    "    for row in data:\n",
    "        row_stripped = []\n",
    "        for value in row:\n",
    "            row_stripped.append(value.strip())\n",
    "    data_stripped.append(row_stripped)\n",
    "    return data_stripped\n",
    "</pre>\n",
    "</details>"
   ]
  },
  {
   "cell_type": "code",
   "execution_count": null,
   "metadata": {},
   "outputs": [],
   "source": []
  },
  {
   "cell_type": "markdown",
   "metadata": {},
   "source": [
    "### 3) Missing values"
   ]
  },
  {
   "cell_type": "markdown",
   "metadata": {},
   "source": [
    "As a next step, we want to understand whether there are missing values in our data. Just as leading and trailing whitespaces can cause problems with our analysis, so can missing values. \n",
    "\n",
    "The first row in our dataset contains a missing value in the third 'column'. The third value, which represents the number of bedrooms is an empty string."
   ]
  },
  {
   "cell_type": "code",
   "execution_count": 15,
   "metadata": {},
   "outputs": [
    {
     "data": {
      "text/plain": [
       "['2167',\n",
       " '14 Stable Walk, London E1',\n",
       " '',\n",
       " '1',\n",
       " '1',\n",
       " 'Studio',\n",
       " 'Aldgate East',\n",
       " '0.2',\n",
       " \"Beautifully presented one bedroom studio in the phase Neroli House features a spacious living room with an open kitchen, with spacious double bedroom, built-in wardrobe and a large luxurious bathroom. Situated just 3 minutes' walk away from Aldgate East.\",\n",
       " 'Available immediately',\n",
       " 'https://www.zoopla.co.uk/to-rent/details/56147079']"
      ]
     },
     "execution_count": 15,
     "metadata": {},
     "output_type": "execute_result"
    }
   ],
   "source": [
    "zoopla_stripped[1]"
   ]
  },
  {
   "cell_type": "markdown",
   "metadata": {},
   "source": [
    "If we later want to convert the string values to integers and floats to calculate statistics, Python will return an error message, since it cannot convert an empty string to a float."
   ]
  },
  {
   "cell_type": "code",
   "execution_count": 10,
   "metadata": {},
   "outputs": [
    {
     "ename": "ValueError",
     "evalue": "could not convert string to float: ''",
     "output_type": "error",
     "traceback": [
      "\u001b[1;31m---------------------------------------------------------------------------\u001b[0m",
      "\u001b[1;31mValueError\u001b[0m                                Traceback (most recent call last)",
      "\u001b[1;32m<ipython-input-10-f343758f6d80>\u001b[0m in \u001b[0;36m<module>\u001b[1;34m\u001b[0m\n\u001b[1;32m----> 1\u001b[1;33m \u001b[0mfloat\u001b[0m\u001b[1;33m(\u001b[0m\u001b[0mzoopla_stripped\u001b[0m\u001b[1;33m[\u001b[0m\u001b[1;36m1\u001b[0m\u001b[1;33m]\u001b[0m\u001b[1;33m[\u001b[0m\u001b[1;36m2\u001b[0m\u001b[1;33m]\u001b[0m\u001b[1;33m)\u001b[0m\u001b[1;33m\u001b[0m\u001b[1;33m\u001b[0m\u001b[0m\n\u001b[0m",
      "\u001b[1;31mValueError\u001b[0m: could not convert string to float: ''"
     ]
    }
   ],
   "source": [
    "float(zoopla_stripped[1][2])"
   ]
  },
  {
   "cell_type": "markdown",
   "metadata": {},
   "source": [
    "### Task 7 - Check for rows with missing values\n",
    "\n",
    "Let us first get a sense of the number of rows we have with missing values. Calculate the percentage of rows that have one or more missing values.\n",
    "\n",
    "The percentage of missing rows is 0.5416248746238717"
   ]
  },
  {
   "cell_type": "markdown",
   "metadata": {},
   "source": [
    "<details><summary>Click here for a hint</summary>\n",
    "\n",
    "1. Create a variable for the total number of rows in the data\n",
    "2. Calculate the number of rows with at least one missing value\n",
    "3. Calculate a new variable for the percentage of missing rows\n",
    "    \n",
    "</details>"
   ]
  },
  {
   "cell_type": "markdown",
   "metadata": {},
   "source": [
    "<details><summary>Click here for another hint</summary>\n",
    "\n",
    "You will need to use a for loop to iterate through the entire data. Before the for loop initiate a counter for the number of rows with missing values. On each iteration increase the counter by 1 if the row has a missing value in it. \n",
    "</details>"
   ]
  },
  {
   "cell_type": "markdown",
   "metadata": {},
   "source": [
    "<details><summary>Click here for yet another hint</summary>\n",
    "\n",
    "Use an if statement to test whether there is an empty string inside the row.\n",
    "</details>"
   ]
  },
  {
   "cell_type": "markdown",
   "metadata": {},
   "source": [
    "<details><summary>Click here for the solution</summary>\n",
    "\n",
    "<pre>\n",
    "# create variables for number of rows and to count missing rows\n",
    "n_rows = len(zoopla_stripped)\n",
    "n_missing_rows = 0\n",
    "\n",
    "# loop over rows of zoopla_stripped\n",
    "for row in zoopla_stripped:\n",
    "\n",
    "    # if row has an empty string/missing values increase missing row counter by 1\n",
    "    if '' in row:\n",
    "        n_missing_rows += 1\n",
    "        \n",
    "# calculate percentage of missing rows, which is ratio of number of missing rows and number of rows\n",
    "perc_missing_rows = n_missing_rows/n_rows\n",
    "print(perc_missing_rows)\n",
    "</pre>\n",
    "</details>"
   ]
  },
  {
   "cell_type": "code",
   "execution_count": null,
   "metadata": {},
   "outputs": [],
   "source": []
  },
  {
   "cell_type": "markdown",
   "metadata": {},
   "source": [
    "<br>\n",
    "<br>\n",
    "\n",
    "### Task 8 - Check for columns with missing values\n",
    "\n",
    "Now we know that roughly 54% of rows have a missing value. To get a full picture of the missing values in our data, we need to know how many missings we have for each column. If a column has a very high percentage of missings, we might choose to not use it in our analysis, since it would strongly limit the number of complete instances we have available.\n",
    "\n",
    "Use a list of lists to store the percentage of missing values per column, as in the correct output below.\n",
    "```\n",
    "[['Monthly Rent', 0.0002],\n",
    " ['Location', 0.0],\n",
    " ['Bedrooms', 0.0931],\n",
    " ['Bathrooms', 0.0819],\n",
    " ['Receptions', 0.2977],\n",
    " ['Description', 0.0],\n",
    " ['Nearest Station', 0.0],\n",
    " ['Distance (miles)', 0.0],\n",
    " ['Long Description', 0.0002],\n",
    " ['Available', 0.2629],\n",
    " ['Link', 0.0]]\n",
    "\n",
    "```"
   ]
  },
  {
   "cell_type": "markdown",
   "metadata": {},
   "source": [
    "<details><summary>Click here for a hint</summary>\n",
    "\n",
    "You will have to use nested for loops.\n",
    "    \n",
    "The first for loop selects the index of the columns. The second for loop loops over the rows. For each row, you need to check whether the value at the position corresponding to a specific column is an empty string. If that is the case, increase a counter for the missings of that column by 1.\n",
    "\n",
    "    \n",
    "</details>"
   ]
  },
  {
   "cell_type": "markdown",
   "metadata": {},
   "source": [
    "<details><summary>Click here for another hint</summary>\n",
    "\n",
    "Use this coding scaffold and try to fill in the missing bits to complete the for loop.\n",
    "    \n",
    "<pre>\n",
    "perc_missing_per_col = []\n",
    "\n",
    "for i in _ _ _ _ _ _ _ _ _:\n",
    "    n_missing = 0\n",
    "    for row in _ _ _ _ _ _ _ _:\n",
    "        if _ _ _  == '':\n",
    "            n_missing += 1\n",
    "    per_missing = n_missing / len(zoopla_stripped)\n",
    "    perc_missing_per_col.append([_ _ _ _ _ _ _ _ _, _ _ _ _ _ _ _ _ _ _])\n",
    "    \n",
    "</pre>\n",
    "</details>"
   ]
  },
  {
   "cell_type": "markdown",
   "metadata": {},
   "source": [
    "<details><summary>Click here for the solution</summary>\n",
    "\n",
    "<pre>\n",
    "# create list to store missing values\n",
    "perc_missing_per_col = []\n",
    "\n",
    "# looping over integers for each column\n",
    "# len(zoopla_stripped[0]) number of elements in first row, i.e. number of columns\n",
    "# range() will return a series of integers from 0 - number of columns\n",
    "for i in range(len(zoopla_stripped[0])):\n",
    "    \n",
    "    # set the missing counter to 0\n",
    "    n_missing = 0\n",
    "    \n",
    "    # loop over rows\n",
    "    for row in zoopla_stripped:\n",
    "    \n",
    "        # if element from specific column is emtpy string, increase counter by 1\n",
    "        if row[i] == '':\n",
    "            n_missing += 1\n",
    "            \n",
    "    # calculate percentage of missings for column\n",
    "    per_missing = n_missing / len(zoopla_stripped)\n",
    "    \n",
    "    # add a new list to the main list with the column name and the percentage missings rounded to 4 decimals\n",
    "    perc_missing_per_col.append([zoopla_stripped[0][i], round(per_missing, 4)])\n",
    "    \n",
    "perc_missing_per_col\n",
    "</pre>\n",
    "</details>"
   ]
  },
  {
   "cell_type": "code",
   "execution_count": null,
   "metadata": {},
   "outputs": [],
   "source": []
  },
  {
   "cell_type": "markdown",
   "metadata": {},
   "source": [
    "<br>\n",
    "<br>\n",
    "\n",
    "### Task 9 - Remove rows with missing values\n",
    "\n",
    "There are many different ways to deal with missing data. For this guided project, we will simply remove those instances/rows with missing values. Other approaches consist of some type of data imputation, where missing values are being replaced with a specific value. The most basic type of imputation consists of using the median or mean of the column. More complex approaches require modelling of the data so that missing values are being replaced based on the patterns inferred from the data.\n",
    "\n",
    "1. Create a new subset of the data under the name zoopla_nomiss, which consists only of rows that have no missing values.\n",
    "2. Check that the number of rows of zoopla_nomiss is 4570."
   ]
  },
  {
   "cell_type": "markdown",
   "metadata": {},
   "source": [
    "<details><summary>Click here for a hint</summary>\n",
    "\n",
    "1. Create a new empty list named zoopla_nomiss.\n",
    "2. Use a for loop to loop over the rows of zoopla_stripped.\n",
    "3. Use an if statement to check that there are no empty strings in a row.\n",
    "4. Add those rows for which the if statement is true to the zoopla_nomiss.\n",
    "    \n",
    "</details>"
   ]
  },
  {
   "cell_type": "markdown",
   "metadata": {},
   "source": [
    "<details><summary>Click here for the solution</summary>\n",
    "\n",
    "<pre>\n",
    "# create list for rows without missings\n",
    "zoopla_nomiss = []\n",
    "\n",
    "# loop over rows\n",
    "for row in zoopla_stripped:\n",
    "    \n",
    "    # if no emtpy string in row, add row to list\n",
    "    if not '' in row:\n",
    "        zoopla_nomiss.append(row)\n",
    "\n",
    "print(len(zoopla_nomiss))\n",
    "</pre>\n",
    "</details>"
   ]
  },
  {
   "cell_type": "code",
   "execution_count": null,
   "metadata": {},
   "outputs": [],
   "source": []
  },
  {
   "cell_type": "markdown",
   "metadata": {},
   "source": [
    "<br>\n",
    "\n",
    "<br>\n",
    "\n",
    "<div class=\"alert alert-block alert-info\" style=\"color: white; background-color: #323031; border: 0px; -moz-border-radius: 10px; -webkit-border-radius: 10px;\">\n",
    "\n",
    "<h3><a id=\"exploring-data\" style=\"color: white\">Exploring the data</a></h3>\n",
    "    \n",
    "</div>   "
   ]
  },
  {
   "cell_type": "markdown",
   "metadata": {},
   "source": [
    "We've cleaned the dataset sufficiently to be able to carry out some basic analysis where we will calculate descriptives to get a sense of the relationships between different variables in the data.\n",
    "\n",
    "In the first step, we will calculate summary statistics, like the mean, min and max value for the rental price. In the next steps, we will calculate frequencies for property types and then calculate the summary statistics for the most common property type."
   ]
  },
  {
   "cell_type": "markdown",
   "metadata": {},
   "source": [
    "### Task 10 -  Convert rent prices to float"
   ]
  },
  {
   "cell_type": "markdown",
   "metadata": {},
   "source": [
    "Before we can calculate the summary statistics for the rental prices, we first need to extract the rental prices from the data and store them in a new list called **rent_prices**.\n",
    "\n",
    "1. Create a new list called **rent_prices** and add the rent prices converted to float to the list.\n",
    "2. Print the type of the first element to check that the values have the float type."
   ]
  },
  {
   "cell_type": "markdown",
   "metadata": {},
   "source": [
    "<details><summary>Click here for a hint</summary>\n",
    "\n",
    "Use a for loop to loop over the rows and append the converted rent values to the **rent_prices** list.\n",
    "    \n",
    "</details>"
   ]
  },
  {
   "cell_type": "markdown",
   "metadata": {},
   "source": [
    "<details><summary>Click here for another hint</summary>\n",
    "\n",
    "You have to loop over the data starting from the 2nd row. The first row holds the column names.\n",
    "    \n",
    "</details>"
   ]
  },
  {
   "cell_type": "markdown",
   "metadata": {},
   "source": [
    "<details><summary>Click here for the solution</summary>\n",
    "\n",
    "<pre>\n",
    "# create list for rent prices\n",
    "rent_prices = []\n",
    "\n",
    "# loop over rows starting from 2nd row, since first contains the column names\n",
    "for row in rents_nomiss[1:]:\n",
    "\n",
    "    # add the rent price converted to float\n",
    "    rent_prices.append(float(row[0]))\n",
    "    \n",
    "print(type(rent_prices[0]))\n",
    "</pre>\n",
    "</details>"
   ]
  },
  {
   "cell_type": "code",
   "execution_count": null,
   "metadata": {},
   "outputs": [],
   "source": []
  },
  {
   "cell_type": "markdown",
   "metadata": {},
   "source": [
    "<br>\n",
    "<br>\n",
    "\n",
    "### Task 11 - Compute summary statistics"
   ]
  },
  {
   "cell_type": "markdown",
   "metadata": {},
   "source": [
    "We now have the rental prices stored as the correct type in the **rent_prices** list. Let us calculate some summary statistics for the rental prices.\n",
    "\n",
    "Write a function called **summary** that takes as input a list with numerical values and calculates the mean, median, standard deviation, min and max. Use functions from the *statistics* package to calculate the standard deviation, mean and median. Your function should return a string like below.\n",
    "\n",
    "Don't worry about the exact formatting, which is a bit tricky to achieve.\n",
    "\n",
    "<pre>\n",
    "Mean:         2827.43\n",
    "Median:       2250.00\n",
    "Stdev:        2372.26\n",
    "Min:           500.00\n",
    "Max:         54167.00\n",
    "</pre>\n",
    "\n",
    "\n",
    "To split a print statement or a string across several lines you can use the triple doulbe quotes. This also works with f-strings."
   ]
  },
  {
   "cell_type": "code",
   "execution_count": 27,
   "metadata": {},
   "outputs": [
    {
     "name": "stdout",
     "output_type": "stream",
     "text": [
      "\n",
      "Mean:         2827.43\n",
      "Median:       2250.00\n",
      "Stdev:        2372.26\n",
      "\n"
     ]
    }
   ],
   "source": [
    "print(\"\"\"\n",
    "Mean:         2827.43\n",
    "Median:       2250.00\n",
    "Stdev:        2372.26\n",
    "\"\"\")"
   ]
  },
  {
   "cell_type": "markdown",
   "metadata": {},
   "source": [
    "<details><summary>Click here for the solution</summary>\n",
    "\n",
    "<pre>\n",
    "def summary(data):\n",
    "    from statistics import stdev, mean, median\n",
    "    mean_ = mean(data)\n",
    "    median_ = median(data)\n",
    "    std_ = stdev(data)\n",
    "    min_ = min(data)\n",
    "    max_ = max(data)\n",
    "    print('Mean: ' + str(round(mean_, 2)) + '\\n'\\\n",
    "          'Median: ' +  str(round(median_, 2)) + '\\n'\\\n",
    "          'Stdev: ' +  str(round(std_, 2)) + '\\n'\\\n",
    "          'Min: ' +  str(round(min_, 2)) + '\\n'\\\n",
    "          'Max: ' +  str(round(max_, 2)) + '\\n'\\\n",
    "         )\n",
    "\n",
    "</pre>\n",
    "</details>"
   ]
  },
  {
   "cell_type": "markdown",
   "metadata": {},
   "source": [
    "<details><summary>Click here for the solution with nicer formatting using an f-string</summary>\n",
    "\n",
    "With **f-strings** we can specify the *number of characters* that should be given as a space for a string using the :\n",
    "\n",
    "Here, we use :10 to give each string a space of 10 characters, as in `{'Mean:':10}`. By default, the string will be aligned to the left. You can control the text alignment using the <, ^ and > operators to use left, centre and right alignment. See examples below:\n",
    "    \n",
    "<br>\n",
    "\n",
    "- Left aligment with &lt;: `{'Mean:':<10}`\n",
    "- Centre aligment with ^: `{'Mean:':^10}`\n",
    "- Right alginment with &gt; `{'Mean:':>10}`\n",
    "    \n",
    "<br>\n",
    "See <a href=\"https://www.geeksforgeeks.org/string-alignment-in-python-f-string/\">this tutorial</a> for more examples\n",
    "<br>\n",
    "<br>\n",
    "    \n",
    "By adding the `.2f` after the `:10` as in `{mean(data):10.2f}`, we display the number as a 2 decimal float.\n",
    "\n",
    "<br>\n",
    "<pre>\n",
    "def summary(data):\n",
    "    from statistics import stdev, mean, median\n",
    "    print(f\"\"\"\n",
    "{'Mean:':10} {mean(data):10.2f}\n",
    "{'Median:':10} {median(data):10.2f}\n",
    "{'Stdev:':10} {stdev(data):10.2f}\n",
    "{'Min:':10} {min(data):10.2f}\n",
    "{'Max:':10} {max(data):10.2f}\n",
    "\"\"\"\n",
    ")\n",
    "\n",
    "</pre>\n",
    "</details>"
   ]
  },
  {
   "cell_type": "code",
   "execution_count": null,
   "metadata": {},
   "outputs": [],
   "source": []
  },
  {
   "cell_type": "markdown",
   "metadata": {},
   "source": [
    "<br>\n",
    "<br>\n",
    "\n",
    "### Task 12 -  Use a counter to find the 10 most common property types\n",
    "\n",
    "1. Create a new list called **property_types** to hold the property type values from the zoopla_nomiss list of lists.\n",
    "2. Search online how to use a 'Counter' to count the occurence of elements from a collection.\n",
    "3. Use a counter to count the occurences of the different property types in the **property_types** list.\n",
    "4. Select the 10 most common property types. There is a counter method to do this. Search online on how to do this.\n",
    "5. Select only the property types and not the counts and store in a list named top10_property_types."
   ]
  },
  {
   "cell_type": "markdown",
   "metadata": {},
   "source": [
    "<details><summary>Click here for a hint</summary>\n",
    "\n",
    "\n",
    "To create the property_types list use a for loop to loop over the rows from **zoopla_nomiss** and extract the values from the property type column at index 5.\n",
    "\n",
    "\n",
    "</details>"
   ]
  },
  {
   "cell_type": "markdown",
   "metadata": {},
   "source": [
    "<details><summary>Click here for the solution to create the property_types list</summary>\n",
    " \n",
    "<pre>\n",
    "property_types = []\n",
    "for row in zoopla_nomiss:\n",
    "    property_types.append(row[5])\n",
    "\n",
    "</pre>\n",
    "</details>"
   ]
  },
  {
   "cell_type": "markdown",
   "metadata": {},
   "source": [
    "<details><summary>Click here for the solution to select the most common values</summary>\n",
    " \n",
    "<pre>\n",
    "from collections import Counter\n",
    "\n",
    "top10_freq_property_type = counter.most_common(10)\n",
    "</pre>\n",
    "</details>"
   ]
  },
  {
   "cell_type": "markdown",
   "metadata": {},
   "source": [
    "<details><summary>Click here for the solution to select only the property types and not the counts.</summary>\n",
    " \n",
    "<pre>\n",
    "\n",
    "# Create empty list for the property types\n",
    "top10_property_types = []\n",
    "\n",
    "# Loop over the items in the top10 counter\n",
    "for item in top10_freq_property_type:\n",
    "    \n",
    "    # Selecting the first element from each item, which is the property type\n",
    "    top10_property_types.append(item[0])\n",
    "    \n",
    "</pre>\n",
    "</details>"
   ]
  },
  {
   "cell_type": "code",
   "execution_count": null,
   "metadata": {},
   "outputs": [],
   "source": []
  },
  {
   "cell_type": "markdown",
   "metadata": {},
   "source": [
    "<br>\n",
    "<br>\n",
    "\n",
    "### Task 13 - Calculate statistics for most common property types\n",
    "\n",
    "1. Use the summary function to calculate the statistics for each of the 10 most common property types.\n",
    "2. Which has the highest and lowest median/mean price? Which property type shows the highest spread?"
   ]
  },
  {
   "cell_type": "markdown",
   "metadata": {},
   "source": [
    "<details><summary>Click here for a hint</summary>\n",
    "\n",
    "\n",
    "Use a for loop to loop over the different property type values from the top10_property_types list.\n",
    "\n",
    "\n",
    "</details>"
   ]
  },
  {
   "cell_type": "markdown",
   "metadata": {},
   "source": [
    "<details><summary>Click here for another hint</summary>\n",
    "\n",
    "\n",
    "Inside the main for loop use another for loop to loop over the rows of the data and filter out prices that match the selected property type with an if statement.\n",
    "\n",
    "\n",
    "</details>"
   ]
  },
  {
   "cell_type": "markdown",
   "metadata": {},
   "source": [
    "<details><summary>Click here for a coding scaffold to work from</summary>\n",
    " \n",
    "<pre>\n",
    "for _ _ _ _ _ in top10_property_types:\n",
    "    print(_ _ _ _ _ _)\n",
    "    rental_prices = []\n",
    "    for _ _ _ in _ _ _ _ _ _ _ :\n",
    "        if row[5] == type_:\n",
    "            rental_prices.append(_ _ _ _ (row[0]))\n",
    "\n",
    "    _ _ _ _ _ _ (rental_prices)\n",
    "</pre>\n",
    "</details>"
   ]
  },
  {
   "cell_type": "markdown",
   "metadata": {},
   "source": [
    "<details><summary>Click here for the solution</summary>\n",
    " \n",
    "<pre>\n",
    "for type_ in top10_property_types:\n",
    "    print(type_, 'prices')\n",
    "    rental_prices = []\n",
    "    for row in zoopla_nomiss[1:]:\n",
    "        if row[5] == type_:\n",
    "            rental_prices.append(float(row[0]))\n",
    "\n",
    "    summary(rental_prices)\n",
    "</pre>\n",
    "</details>"
   ]
  },
  {
   "cell_type": "code",
   "execution_count": null,
   "metadata": {},
   "outputs": [],
   "source": []
  },
  {
   "cell_type": "markdown",
   "metadata": {},
   "source": [
    "<br>\n",
    "\n",
    "<br>\n",
    "\n",
    "<div class=\"alert alert-block alert-info\" style=\"color: white; background-color: #55378b; border: 0px; -moz-border-radius: 10px; -webkit-border-radius: 10px;\">\n",
    "\n",
    "<h3><a id=\"bonus-challenge\" style=\"color:white\">Bonus Challenge - List comprehension (optional)</a></h3>\n",
    "    \n",
    "</div>"
   ]
  },
  {
   "cell_type": "markdown",
   "metadata": {},
   "source": [
    "List comprehensions are a useful technique in Python to create lists with for loops more efficiently.\n",
    "\n",
    "Below is an example of how to convert the code to create the rent_prices list with a for loop to a list comprehension."
   ]
  },
  {
   "cell_type": "markdown",
   "metadata": {},
   "source": [
    "#### Original code from Task 10 using a for loop"
   ]
  },
  {
   "cell_type": "code",
   "execution_count": 27,
   "metadata": {},
   "outputs": [
    {
     "data": {
      "text/plain": [
       "[2578.0,\n",
       " 1290.0,\n",
       " 5633.0,\n",
       " 4767.0,\n",
       " 2275.0,\n",
       " 1450.0,\n",
       " 4767.0,\n",
       " 1408.0,\n",
       " 2383.0,\n",
       " 1700.0]"
      ]
     },
     "execution_count": 27,
     "metadata": {},
     "output_type": "execute_result"
    }
   ],
   "source": [
    "rent_prices = []\n",
    "for row in zoopla_nomiss[1:]:\n",
    "    rent_prices.append(float(row[0]))\n",
    "\n",
    "rent_prices[:10]"
   ]
  },
  {
   "cell_type": "markdown",
   "metadata": {},
   "source": [
    "#### Same task but using a list comprehension"
   ]
  },
  {
   "cell_type": "code",
   "execution_count": 28,
   "metadata": {},
   "outputs": [
    {
     "data": {
      "text/plain": [
       "[2578.0,\n",
       " 1290.0,\n",
       " 5633.0,\n",
       " 4767.0,\n",
       " 2275.0,\n",
       " 1450.0,\n",
       " 4767.0,\n",
       " 1408.0,\n",
       " 2383.0,\n",
       " 1700.0]"
      ]
     },
     "execution_count": 28,
     "metadata": {},
     "output_type": "execute_result"
    }
   ],
   "source": [
    "rent_prices1 = [float(row[0]) for row in zoopla_nomiss[1:]]\n",
    "\n",
    "rent_prices1[:10]"
   ]
  },
  {
   "cell_type": "markdown",
   "metadata": {},
   "source": [
    "The main advantages of using list comprehensions are that they save us a few keystrokes, make the code look more concise and elegant and once you got used to them, definitely make your code easier to read."
   ]
  },
  {
   "cell_type": "markdown",
   "metadata": {},
   "source": [
    "To better understand how list comprehensions work, have a look at [this video from realpython.com](https://www.youtube.com/watch?v=1HlyKKiGg-4) or these [examples from w3school](https://www.w3schools.com/python/python_lists_comprehension.asp)."
   ]
  },
  {
   "cell_type": "markdown",
   "metadata": {},
   "source": [
    "Convert the code from task 5/6, 9, 10, 12 and 13 from normal for loops to list comprehensions.\n",
    "\n",
    "Convert the for loops in this order (from easiest to more difficult):\n",
    "- task 12 (**simple list comprehension**)\n",
    "- task 9 and 13 (**list comprehension with if statement**)\n",
    "- task 5/6 (**nested list comprehension**)"
   ]
  },
  {
   "cell_type": "markdown",
   "metadata": {},
   "source": [
    "<details><summary>Click here for the solution for <b>task 12</b></summary>\n",
    " \n",
    "<pre>\n",
    "property_types = [row[5] for row in zoopla_nomiss]\n",
    "</pre>\n",
    "</details>"
   ]
  },
  {
   "cell_type": "markdown",
   "metadata": {},
   "source": [
    "<details><summary>Click here for the solution for <b>task 9</b></summary>\n",
    " \n",
    "<pre>\n",
    "zoopla_nomiss = [row for row in zoopla_stripped if not '' in row]\n",
    "</pre>\n",
    "</details>"
   ]
  },
  {
   "cell_type": "markdown",
   "metadata": {},
   "source": [
    "<details><summary>Click here for the solution for <b>task 13</b></summary>\n",
    " \n",
    "<pre>\n",
    "for type_ in top10_property_types:\n",
    "    print(type_, 'prices')\n",
    "    rental_prices = [float(row[0]) for row in zoopla_nomiss[1:] if row[5] == type_]\n",
    "    summary(rental_prices)\n",
    "</pre>\n",
    "</details>"
   ]
  },
  {
   "cell_type": "markdown",
   "metadata": {},
   "source": [
    "<details><summary>Click here for the solution for <b>task 5/6</b></summary>\n",
    " \n",
    "<pre>\n",
    "zoopla_stripped = [[ value.strip() for value in row] for row in zoopla]\n",
    "</pre>\n",
    "</details>"
   ]
  },
  {
   "cell_type": "code",
   "execution_count": null,
   "metadata": {},
   "outputs": [],
   "source": [
    "# list comprehension for task 12\n",
    "\n"
   ]
  },
  {
   "cell_type": "code",
   "execution_count": null,
   "metadata": {},
   "outputs": [],
   "source": [
    "# list comprehension for task 9\n",
    "\n"
   ]
  },
  {
   "cell_type": "code",
   "execution_count": null,
   "metadata": {},
   "outputs": [],
   "source": [
    "# list comprehension for task 13\n",
    "\n"
   ]
  },
  {
   "cell_type": "code",
   "execution_count": null,
   "metadata": {},
   "outputs": [],
   "source": [
    "# list comprehension for task 5/6\n",
    "\n"
   ]
  },
  {
   "cell_type": "markdown",
   "metadata": {},
   "source": [
    "### Congratulations on completing the notebook!"
   ]
  },
  {
   "cell_type": "markdown",
   "metadata": {},
   "source": [
    "Now that you have worked through the notebook, we hope that you have learnt some new techniques in Python, while consolidating the knowledge from our Python Fundamentals series. Feel free to explore the dataset further and share your results!"
   ]
  },
  {
   "cell_type": "markdown",
   "metadata": {},
   "source": [
    "<details><summary><b>Click here to celebrate!</b></summary>\n",
    "\n",
    "<h1 align=\"center\"> CONGRATULATIONS!!! </h1>\n",
    "    \n",
    "<img src=\"https://www.dropbox.com/s/cqjavsth6zlhe2c/completion_celebrate.gif?raw=1\">\n",
    "    \n",
    "\n",
    "Please fill in the survey linked on the <a href = \"https://moodle.lse.ac.uk/course/view.php?id=8205\">Moodle page</a>\n",
    "</details>"
   ]
  }
 ],
 "metadata": {
  "kernelspec": {
   "display_name": "Python 3",
   "language": "python",
   "name": "python3"
  },
  "language_info": {
   "codemirror_mode": {
    "name": "ipython",
    "version": 3
   },
   "file_extension": ".py",
   "mimetype": "text/x-python",
   "name": "python",
   "nbconvert_exporter": "python",
   "pygments_lexer": "ipython3",
   "version": "3.8.8"
  }
 },
 "nbformat": 4,
 "nbformat_minor": 4
}
