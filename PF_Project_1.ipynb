{
 "cells": [
  {
   "cell_type": "markdown",
   "metadata": {},
   "source": [
    "<div class=\"alert alert-block alert-info\" style=\"background-color: #323031; border: 0px; -moz-border-radius: 10px; -webkit-border-radius: 10px;\">\n",
    "<div style=\"color: #ffffff\">\n",
    "<h1>Python Fundamentals Guided Project - Zoopla Rents</h1>\n",
    "\n",
    "<br>\n",
    "\n",
    "<span style=\"font-size:90%\">by Ximin Chen & Michael Wiemers<br>\n",
    "12.05.2022</span>\n",
    "</div>\n",
    "</div>"
   ]
  },
  {
   "cell_type": "markdown",
   "metadata": {},
   "source": [
    "<div  class=\"alert alert-block alert-info\" style=\"color:#1b1b1b; background-color:#f2f2f2; border: 0px; -moz-border-radius: 10px; -webkit-border-radius: 10px;\">\n",
    "\n",
    "#### Project description\n",
    "\n",
    "In this guided project, you will explore a **dataset on apartments from Zoopla**. The goal of the project is to practice and consolidate the techniques and skills you have learned in the Python Fundamentals Series and to challenge yourself to combine different techniques in creative ways. The project will also introduce new techniques that have not been covered in the Python Fundamentals workshops.\n",
    "\n",
    "Time to complete: 3-4 hours\n",
    "\n",
    "#### What to do if you get stuck\n",
    "\n",
    "Parts of this project are meant to be challenging and stretch your Python skills and you will most likely have to do a web search to find help online. Being able to use effective search terms and identify useful resources is an important competency for a programmer at any level and we therefore encourage to practice this when getting stuck. If you require 1-2-1 support, please see our website for information on how to join our [daily Coding drop-ins on Teams](https://info.lse.ac.uk/current-students/digital-skills-lab/drop-in-sessions) to get help from a trainer.\n",
    "\n",
    "\n",
    "#### Learning objectives\n",
    "- <a href=\"#download-a-csv\"><b>Download a csv file</b> using the request library</a>\n",
    "- <a href=\"#convert-data-to-list-of-lists\"><b>Parse strings</b> with csv.reader into a list of lists</a>\n",
    "- Basic **data integrity checks**\n",
    "    - Test for number of elements in each row\n",
    "    - Remove whitespace\n",
    "    - Find and remove rows with missing values\n",
    "- Basic **exploratory data analysis**\n",
    "    - Finding the maximum rent in the dataset\n",
    "    - Compute summary stats\n",
    "    - Finding the most common property types\n",
    "- **Write code as a function** to enhance structure and efficiency of your code\n",
    "- Use **list comprehensions** to create lists with for loops more efficiently\n",
    "\n",
    "</div>"
   ]
  },
  {
   "cell_type": "markdown",
   "metadata": {},
   "source": [
    "<img src=\"regents_park.jpg\" width=\"80%\">"
   ]
  },
  {
   "cell_type": "markdown",
   "metadata": {},
   "source": [
    "<br>\n",
    "\n",
    "### The Zoopla dataset"
   ]
  },
  {
   "cell_type": "markdown",
   "metadata": {},
   "source": [
    "The dataset you will be working with contains data scraped from Zoopla's site on 7 Sep 2020. \n",
    "\n",
    "It contains 9969 data points of rental properties within 3 miles from LSE. \n",
    "\n",
    "You can see a screenshot of the dataset and a list with all column names below."
   ]
  },
  {
   "cell_type": "markdown",
   "metadata": {},
   "source": [
    "#### Columns:\n",
    " - Monthly rent\n",
    " - Location\n",
    " - Bedrooms\n",
    " - Bathrooms\n",
    " - Receptions\n",
    " - Descriptions\n",
    " - Nearest Station\n",
    " - Distance (miles)\n",
    " - Long Description\n",
    " - Available\n",
    " - Link\n",
    " "
   ]
  },
  {
   "cell_type": "markdown",
   "metadata": {},
   "source": [
    "<img src=\"zoopla.png\" width=\"2000px\">"
   ]
  },
  {
   "cell_type": "markdown",
   "metadata": {},
   "source": [
    "---"
   ]
  },
  {
   "cell_type": "markdown",
   "metadata": {},
   "source": [
    "<div class=\"alert alert-block alert-info\" style=\"color: white; background-color: #323031; border: 0px; -moz-border-radius: 10px; -webkit-border-radius: 10px;\">\n",
    "\n",
    "<h3><a id=\"download-a-csv\" style=\"color:white\">Downloading the data</a></h3>\n",
    "    \n",
    "</div>    "
   ]
  },
  {
   "cell_type": "markdown",
   "metadata": {},
   "source": [
    "Instead of downloading the data manually, we will use Python to do so. Being able to download a csv file programmatically and knowing how to correctly parse the downloaded string into a list of list, which we can work with, is a useful skill to have. If you have taken our Python course for tabular data, you may know that we can use pandas to load a csv file very easily. However, here, we focus on the techniques covered in our Python Fundamentals series."
   ]
  },
  {
   "cell_type": "markdown",
   "metadata": {},
   "source": [
    "The dataset itself is located at the following url:\n",
    "\n",
    "https://raw.githubusercontent.com/ximinchen/DSL-Project/main/zoopla_rents.csv"
   ]
  },
  {
   "cell_type": "markdown",
   "metadata": {},
   "source": [
    "To download the data in the first step, we need the **requests** library, which is a simple, yet elegant, HTTP library that allows you to send HTTP requests extremely easily, to download data from websites. \n",
    "\n",
    "The `request.get()` method is used to send a GET request to the specified url, which if successful will return the websites content. The content and much more information about the website is stored in the Response object that the `request.get()` method returns. We use the variable `response` to store that Response object.\n",
    "\n",
    "For this example, we will use the main zoopla domain - `'https://www.zoopla.co.uk/'`. \n",
    "\n",
    "We pass the url to the `request.get()` method to request the websites content."
   ]
  },
  {
   "cell_type": "code",
   "execution_count": 12,
   "metadata": {},
   "outputs": [
    {
     "name": "stdout",
     "output_type": "stream",
     "text": [
      "<Response [200]>\n"
     ]
    }
   ],
   "source": [
    "import requests\n",
    "\n",
    "url = 'https://www.zoopla.co.uk/'\n",
    "\n",
    "response = requests.get(url)\n",
    "print(response)"
   ]
  },
  {
   "cell_type": "markdown",
   "metadata": {},
   "source": [
    "We get the 200 response, which means that our request was successful and we could download the websites content, which is now stored in the `response` variable.\n",
    "\n",
    "<br>\n",
    "\n",
    "### Task 1 - Download the zoopla csv\n",
    "Now it is your turn to download the zoopla dataset using the url https://raw.githubusercontent.com/ximinchen/DSL-Project/main/zoopla_rents.csv\n",
    "\n",
    "1. Import the requests library\n",
    "2. Create a variable for the url\n",
    "3. Get the response for the url\n",
    "4. Print the response"
   ]
  },
  {
   "cell_type": "markdown",
   "metadata": {},
   "source": [
    "<details><summary>Click here for the solution</summary>\n",
    "\n",
    "<pre>\n",
    "# import requests\n",
    "import requests\n",
    "\n",
    "# set a variable for the url\n",
    "url = \"https://raw.githubusercontent.com/ximinchen/DSL-Project/main/zoopla_rents.csv\"\n",
    "\n",
    "# get the response\n",
    "response = requests.get(url)\n",
    "\n",
    "# print the response\n",
    "print(response)\n",
    "\n",
    "</pre>\n",
    "</details>"
   ]
  },
  {
   "cell_type": "code",
   "execution_count": 13,
   "metadata": {},
   "outputs": [
    {
     "name": "stdout",
     "output_type": "stream",
     "text": [
      "<Response [200]>\n"
     ]
    }
   ],
   "source": [
    "# import requests\n",
    "import requests\n",
    "\n",
    "# set a variable for the url\n",
    "url = \"https://raw.githubusercontent.com/ximinchen/DSL-Project/main/zoopla_rents.csv\"\n",
    "\n",
    "# get the response\n",
    "response = requests.get(url)\n",
    "\n",
    "# print the response\n",
    "print(response)\n"
   ]
  },
  {
   "cell_type": "markdown",
   "metadata": {},
   "source": [
    "<br>\n",
    "\n",
    "<br>\n",
    "\n",
    "<div class=\"alert alert-block alert-info\" style=\"color: white; background-color: #323031; border: 0px; -moz-border-radius: 10px; -webkit-border-radius: 10px;\">\n",
    "\n",
    "<h3><a id=\"convert-data-to-list-of-lists\" style=\"color:white\">Converting the data to a list of lists</a></h3>\n",
    "    \n",
    "</div>    "
   ]
  },
  {
   "cell_type": "markdown",
   "metadata": {},
   "source": [
    "We can access the websites content with the `response.text` attribute. This will show the entire html code or in this case the data, since we downloaded an csv file, as one long string. Let us save the string in the variable `content`."
   ]
  },
  {
   "cell_type": "code",
   "execution_count": 17,
   "metadata": {},
   "outputs": [],
   "source": [
    "content = response.text"
   ]
  },
  {
   "cell_type": "markdown",
   "metadata": {},
   "source": [
    "In the example below, we only print the first 1000 characters of the string. The values are separated by commas. The lines are separated by `\\n`, which is the special character for line breaks.\n",
    "\n",
    "```Python\n",
    "content[:1000]\n",
    "```\n",
    "\n",
    "<img src=\"csv_string.png\">"
   ]
  },
  {
   "cell_type": "markdown",
   "metadata": {},
   "source": [
    "We can easily split this string into a list of strings for each line using `content.split('\\n')`. The split method splits a string into a list of smaller strings based on the character passed to the method. The method cuts off the start of the list whenever it finds a `'\\n'` add this part to the list and keeps doing this until it reaches the end of the string.\n",
    "\n",
    "Below we print the first 5 rows of the list we get."
   ]
  },
  {
   "cell_type": "code",
   "execution_count": 20,
   "metadata": {},
   "outputs": [
    {
     "data": {
      "text/plain": [
       "['Monthly Rent,Location,Bedrooms,Bathrooms,Receptions,Description,Nearest Station,Distance (miles),Long Description,Available,Link\\r',\n",
       " '2167,\"14 Stable Walk, London E1\",,1,1,Studio ,Aldgate East,0.2,\"Beautifully presented one bedroom studio in the phase Neroli House features a spacious living room with an open kitchen, with spacious double bedroom, built-in wardrobe and a large luxurious bathroom. Situated just 3 minutes\\' walk away from Aldgate East.\",Available immediately,https://www.zoopla.co.uk/to-rent/details/56147079\\r',\n",
       " '2578,\"Exchange Gardens, London SW8\",2,2,2,2 bed flat ,Vauxhall,0.2,The apartment is located on the fourth floor with lift and offers 860 sq ft of living space. The property benefits from an open plan kitchen / reception room..,Available immediately,https://www.zoopla.co.uk/to-rent/details/56147140\\r',\n",
       " '1290,\"Commercial Street, London E1\",1,1,1,1 bed flat ,Shoreditch High Street,0.2,\"City Realtor is proud to present this cozy one bedroom flat situated in an iconic location of Commercial Street. The property is naturally bright and airy. The building and apartment having been newly refurbished, with its good ceiling height, solid ...\",Available immediately,https://www.zoopla.co.uk/to-rent/details/56147129\\r',\n",
       " '1250,\"Commercial Street, London E1\",,1,1,Studio ,Shoreditch High Street,0.2,\"City Realtor is proud to present this cozy Studio flat situated in an iconic location of Commercial Street. The property is naturally bright and airy. The building and apartment having been newly refurbished, with its good ceiling height, solid ...\",Available immediately,https://www.zoopla.co.uk/to-rent/details/56147119\\r']"
      ]
     },
     "execution_count": 20,
     "metadata": {},
     "output_type": "execute_result"
    }
   ],
   "source": [
    "content = content.split('\\n')\n",
    "content[:5]"
   ]
  },
  {
   "cell_type": "markdown",
   "metadata": {},
   "source": [
    "We now have a list of strings, where each string in the list represents a row in our data. In this format, we cannot easily select values from each row, since all values from a row are stored in a string. It would be much easier, if we each string itself would be split into a list. That way, we can easily select values from a particular row, based on their position.\n",
    " \n",
    "Effectively, we need to generate a new list of lists by iterating through each element of the content list and splitting each row into a list in itself based on the comma character. There is a much easier way to do this with the reader function from the **csv** library.\n",
    "\n",
    "The code below uses the reader function to parse the content list of strings into a list of lists. The reader function does not itself return a list, but a reader Object. We have to use the list function to convert it into a list of lists."
   ]
  },
  {
   "cell_type": "code",
   "execution_count": 34,
   "metadata": {},
   "outputs": [
    {
     "data": {
      "text/plain": [
       "<_csv.reader at 0x20539cc1ee0>"
      ]
     },
     "execution_count": 34,
     "metadata": {},
     "output_type": "execute_result"
    }
   ],
   "source": [
    "import csv\n",
    "\n",
    "list(csv.reader(content))"
   ]
  },
  {
   "cell_type": "markdown",
   "metadata": {},
   "source": [
    "<div class=\"alert alert-block alert-info\" style=\"background-color:#e0f0ff;color:#033962\">\n",
    "If you are interested, to learn more about the csv library and how some of the arguments of the reader function work and also how to write a csv file to the disk, we would recommend the <a href=\"https://realpython.com/python-csv/\">Reading and Writing CSV Files in Python</a> from RealPython.com\n",
    "</div>\n"
   ]
  },
  {
   "cell_type": "markdown",
   "metadata": {},
   "source": [
    "<br>\n",
    "\n",
    "### Task 2 - Converting the Zoopla dataset into a list of lists\n",
    "\n",
    "1. Import the csv library\n",
    "1. Use the text attribute to receive the dataset as a string and store the string with the variable content.\n",
    "2. Split the content string into a list based on the line break character and re-assign to the variable content.\n",
    "3. Use the reader function from the csv library to convert the list of strings to a list of lists.\n",
    "4. How many rows does the dataset have?\n",
    "5. Print the column names from the first row\n",
    "5. Print the last row and try to map each value with its corresponding column name to make sense of the values."
   ]
  },
  {
   "cell_type": "markdown",
   "metadata": {},
   "source": [
    "<details><summary>Click here for the solution</summary>\n",
    "\n",
    "<pre>\n",
    "import csv\n",
    "\n",
    "content = response.text\n",
    "content = content.split('\\n')\n",
    "\n",
    "zoopla = list(csv.reader(content))\n",
    "\n",
    "print('Number of rows')\n",
    "print(len(zoopla))\n",
    "\n",
    "display(zoopla[0])\n",
    "\n",
    "display(zoopla[-1])\n",
    "</pre>\n",
    "</details>"
   ]
  },
  {
   "cell_type": "code",
   "execution_count": 40,
   "metadata": {},
   "outputs": [
    {
     "name": "stdout",
     "output_type": "stream",
     "text": [
      "Number of rows\n",
      "9970\n"
     ]
    },
    {
     "data": {
      "text/plain": [
       "['Monthly Rent',\n",
       " 'Location',\n",
       " 'Bedrooms',\n",
       " 'Bathrooms',\n",
       " 'Receptions',\n",
       " 'Description',\n",
       " 'Nearest Station',\n",
       " 'Distance (miles)',\n",
       " 'Long Description',\n",
       " 'Available',\n",
       " 'Link']"
      ]
     },
     "metadata": {},
     "output_type": "display_data"
    },
    {
     "data": {
      "text/plain": [
       "['6933',\n",
       " 'Park Lane Place, Marble Arch, London W1K',\n",
       " '3',\n",
       " '3',\n",
       " '1',\n",
       " '3 bed flat ',\n",
       " 'Marble Arch',\n",
       " '0.1',\n",
       " 'This stunning and spacious lateral apartment, with excellent views over Hyde Park, comes fully furnished and is available to rent trough Prime London. Situated on a higher floor of this beautiful portered building with lift, the apartment benefits ...',\n",
       " '',\n",
       " 'https://www.zoopla.co.uk/to-rent/details/55866239']"
      ]
     },
     "metadata": {},
     "output_type": "display_data"
    }
   ],
   "source": [
    "import csv\n",
    "\n",
    "content = response.text\n",
    "content = content.split('\\n')\n",
    "\n",
    "zoopla = list(csv.reader(content))\n",
    "\n",
    "print('Number of rows')\n",
    "print(len(zoopla))\n",
    "\n",
    "display(zoopla[0])\n",
    "\n",
    "display(zoopla[-1])"
   ]
  },
  {
   "cell_type": "markdown",
   "metadata": {},
   "source": [
    "<br>\n",
    "<br>\n",
    "\n",
    "### Task 3 - Write a read_csv function\n",
    "\n",
    "Let us review the different steps we have performed so far:\n",
    "\n",
    "1. Download the websites content with the requests.get() method\n",
    "2. Get the files content as a string with the text attribute\n",
    "3. Split the string into a list of strings, where each string represents a row in the data\n",
    "4. Use the reader function from the csv library to transform the list of strings into a list of lists.\n",
    "\n",
    "A process like this should be combined into a function, so that we can simply use the functions name to perform these steps at multiple points in our notebook. We might, for instance, want to download a different dataset or reload the original dataset at some point in later our analysis.\n",
    "\n",
    "*Write a function called **read_csv** to carry out the above four steps, which you have already written the code for in Task 1 and Task 2.*\n",
    "\n",
    "Test whether your function returns the same dataset as previously, by printing the number of rows, the first and the last row and compare the output to what you got in Task 2."
   ]
  },
  {
   "cell_type": "markdown",
   "metadata": {},
   "source": [
    "<details><summary>Click here to get a hint</summary>\n",
    "\n",
    "The function only needs the url as an argument and should return the parsed dataset. This is a function that can be used for any dataset and not only the Zoopla rent data. The argument names should reflect that and you shouldn't use <b>zoopla_url</b> or <b>zoopla_data</b> as variable names!\n",
    "\n",
    "</details>"
   ]
  },
  {
   "cell_type": "markdown",
   "metadata": {},
   "source": [
    "<details><summary>Click here to get another hint</summary>\n",
    "\n",
    "Below is a scaffold to work from. The body of the function, the code between the def and return statement, is left empty for you to fill in.\n",
    "    \n",
    "<pre>\n",
    "import requests\n",
    "import csv\n",
    "\n",
    "def read_csv(url):\n",
    "\n",
    "        \n",
    "    return data\n",
    "</pre>\n",
    "\n",
    "</details>"
   ]
  },
  {
   "cell_type": "markdown",
   "metadata": {},
   "source": [
    "<details><summary>Click here for the solution</summary>\n",
    "\n",
    "<pre>\n",
    "import requests\n",
    "import csv\n",
    "\n",
    "def read_csv(url):\n",
    "    response = requests.get(url)\n",
    "    \n",
    "    content = response.text\n",
    "    content = content.split('\\n')\n",
    "    \n",
    "    data = list(csv.reader(content))\n",
    "    \n",
    "    return data\n",
    "\n",
    "zoopla = read_csv(url)\n",
    "\n",
    "print('Number of rows')\n",
    "print(len(zoopla))\n",
    "\n",
    "display(zoopla[0])\n",
    "\n",
    "display(zoopla[-1])\n",
    "</pre>\n",
    "</details>"
   ]
  },
  {
   "cell_type": "code",
   "execution_count": 43,
   "metadata": {},
   "outputs": [
    {
     "name": "stdout",
     "output_type": "stream",
     "text": [
      "Number of rows\n",
      "9970\n"
     ]
    },
    {
     "data": {
      "text/plain": [
       "['Monthly Rent',\n",
       " 'Location',\n",
       " 'Bedrooms',\n",
       " 'Bathrooms',\n",
       " 'Receptions',\n",
       " 'Description',\n",
       " 'Nearest Station',\n",
       " 'Distance (miles)',\n",
       " 'Long Description',\n",
       " 'Available',\n",
       " 'Link']"
      ]
     },
     "metadata": {},
     "output_type": "display_data"
    },
    {
     "data": {
      "text/plain": [
       "['6933',\n",
       " 'Park Lane Place, Marble Arch, London W1K',\n",
       " '3',\n",
       " '3',\n",
       " '1',\n",
       " '3 bed flat ',\n",
       " 'Marble Arch',\n",
       " '0.1',\n",
       " 'This stunning and spacious lateral apartment, with excellent views over Hyde Park, comes fully furnished and is available to rent trough Prime London. Situated on a higher floor of this beautiful portered building with lift, the apartment benefits ...',\n",
       " '',\n",
       " 'https://www.zoopla.co.uk/to-rent/details/55866239']"
      ]
     },
     "metadata": {},
     "output_type": "display_data"
    }
   ],
   "source": [
    "import requests\n",
    "import csv\n",
    "\n",
    "def read_csv(url):\n",
    "    response = requests.get(url)\n",
    "    \n",
    "    content = response.text\n",
    "    content = content.split('\\n')\n",
    "    \n",
    "    data = list(csv.reader(content))\n",
    "    \n",
    "    return data\n",
    "\n",
    "zoopla = read_csv(url)\n",
    "\n",
    "print('Number of rows')\n",
    "print(len(zoopla))\n",
    "\n",
    "display(zoopla[0])\n",
    "\n",
    "display(zoopla[-1])"
   ]
  },
  {
   "cell_type": "markdown",
   "metadata": {},
   "source": [
    "<br>\n",
    "\n",
    "<br>\n",
    "\n",
    "<div class=\"alert alert-block alert-info\" style=\"color: white; background-color: #323031; border: 0px; -moz-border-radius: 10px; -webkit-border-radius: 10px;\">\n",
    "\n",
    "<h3>Checking data integrity</h3>\n",
    "    \n",
    "</div>   "
   ]
  },
  {
   "cell_type": "markdown",
   "metadata": {},
   "source": [
    "Whenever you import data, before jumping straight into exploring the data, you want to run a few basic tests to make sure that the data is in the correct format.\n",
    "\n",
    "For this dataset, you want to ensure that the data has been parsed correctly, that there are no leading or trailing whitespaces and get a sense of the number and distribution of missing values.\n",
    "\n",
    "### 1) Correct parsing of the data\n",
    "\n",
    "Let us start by doing a basic sanity check to test whether the data has been parsed correctly. If each row has been parsed correctly, that is, each row has been split correctly into the different columns as specific in the first row, each row should have as many elements as the first row.\n",
    "\n",
    "<br>\n",
    "<br>\n",
    "\n",
    "### Task 4 - Check for correct parsing of the rows\n",
    "\n",
    "We want to count the number of rows that have a number of elements unequal to the first row. The count should be equal to 0, since all rows have the same number of elements."
   ]
  },
  {
   "cell_type": "markdown",
   "metadata": {},
   "source": [
    "<details><summary>Click here to get a hint</summary>\n",
    "\n",
    "You have to use a for loop.\n",
    "\n",
    "</details>"
   ]
  },
  {
   "cell_type": "markdown",
   "metadata": {},
   "source": [
    "<details><summary>Click here to get another hint</summary>\n",
    "\n",
    "1. Create a counter variable that is intially set to 0 before the for loop.\n",
    "2. Use a for loop to iterate over the rows of the dataset.\n",
    "3. Use an if statement to test whether the number of elements in a row is unequal to the number of elements in the first row.\n",
    "4. Increase the counter by 1 inside the if statement.\n",
    "\n",
    "</details>"
   ]
  },
  {
   "cell_type": "markdown",
   "metadata": {},
   "source": [
    "<details><summary>Click here for the solution</summary>\n",
    "\n",
    "<pre>\n",
    "cnt = 0\n",
    "for row in zoopla:\n",
    "    if len(row) != len(zoopla[0]):\n",
    "        cnt += 1\n",
    "        \n",
    "print(cnt)\n",
    "</pre>\n",
    "</details>"
   ]
  },
  {
   "cell_type": "code",
   "execution_count": 46,
   "metadata": {},
   "outputs": [
    {
     "name": "stdout",
     "output_type": "stream",
     "text": [
      "0\n"
     ]
    }
   ],
   "source": [
    "cnt = 0\n",
    "for row in zoopla:\n",
    "    if len(row) != len(zoopla[0]):\n",
    "        cnt += 1\n",
    "        \n",
    "print(cnt)\n"
   ]
  },
  {
   "cell_type": "markdown",
   "metadata": {},
   "source": [
    "&nbsp;\n",
    "\n",
    "### 2) Removing leading and trailing whitespace"
   ]
  },
  {
   "cell_type": "markdown",
   "metadata": {},
   "source": [
    "Leading and trailing whitespace can easily cause problems in your analysis, as you might get, for instance, an error message when trying to select values from your dataset.\n",
    "\n",
    "The description and the Distance (miles) column contain trailing whitespace. \n",
    "\n",
    "The value `'Studio '` and the value `'0.2 '` both have a space at the end.\n",
    "\n",
    "If you were to look for rows with the value `'Studio'` (no whitespaces), you will miss some or all of the values, since they will actually contain a trailing whitespace, as in the first row below. It is therefore important to remove all leading and trailing whitespace before further analyzing the data."
   ]
  },
  {
   "cell_type": "code",
   "execution_count": 10,
   "metadata": {},
   "outputs": [
    {
     "data": {
      "text/plain": [
       "['2167',\n",
       " '14 Stable Walk, London E1',\n",
       " '',\n",
       " '1',\n",
       " '1',\n",
       " 'Studio ',\n",
       " 'Aldgate East',\n",
       " '0.2',\n",
       " \"Beautifully presented one bedroom studio in the phase Neroli House features a spacious living room with an open kitchen, with spacious double bedroom, built-in wardrobe and a large luxurious bathroom. Situated just 3 minutes' walk away from Aldgate East.\",\n",
       " 'Available immediately',\n",
       " 'https://www.zoopla.co.uk/to-rent/details/56147079']"
      ]
     },
     "execution_count": 10,
     "metadata": {},
     "output_type": "execute_result"
    }
   ],
   "source": [
    "rents_raw[0]"
   ]
  },
  {
   "cell_type": "markdown",
   "metadata": {},
   "source": [
    "<br>\n",
    "\n",
    "You can use the `.strip()` method on a string to remove leading and trailing white space. As you can see, the `.strip()` method only removes the leading and trailing white space. The spaces between the words are not removed."
   ]
  },
  {
   "cell_type": "code",
   "execution_count": 51,
   "metadata": {},
   "outputs": [
    {
     "name": "stdout",
     "output_type": "stream",
     "text": [
      "        this is a string      \n",
      "this is a string\n"
     ]
    }
   ],
   "source": [
    "my_string = '        this is a string      '\n",
    "print(my_string)\n",
    "\n",
    "my_string = my_string.strip()\n",
    "print(my_string)"
   ]
  },
  {
   "cell_type": "markdown",
   "metadata": {},
   "source": [
    "When using the print function to print a string, the quotes will be omitted, which makes it difficult to notice the trailing whitespace. We can use jupyter's display function to show the quotes around the string."
   ]
  },
  {
   "cell_type": "code",
   "execution_count": 50,
   "metadata": {},
   "outputs": [
    {
     "data": {
      "text/plain": [
       "'        this is a string      '"
      ]
     },
     "metadata": {},
     "output_type": "display_data"
    },
    {
     "data": {
      "text/plain": [
       "'this is a string'"
      ]
     },
     "metadata": {},
     "output_type": "display_data"
    }
   ],
   "source": [
    "my_string = '        this is a string      '\n",
    "display(my_string)\n",
    "\n",
    "my_string = my_string.strip()\n",
    "display(my_string)"
   ]
  },
  {
   "cell_type": "markdown",
   "metadata": {},
   "source": [
    "<br>\n",
    "\n",
    "### Task 5 - Removing leading or trailing whitespace\n",
    "\n",
    "We want to create a new version of the data where any leading and trailing whitespace are removed.\n",
    "\n",
    "You will have to create a new list for the data, that is being filled with stripped values of the zoopla list of lists. Call this new version of the data **zoopla_stripped**.\n",
    "\n",
    "Check the first element in **zoopla_stripped** . Are the whitespaces gone now?"
   ]
  },
  {
   "cell_type": "markdown",
   "metadata": {},
   "source": [
    "<details><summary>Click here to get a hint</summary>\n",
    "\n",
    "You have to use a nested for loop. The main loop loops over the zoopla dataset, which we created in the previous setp. The second loop inside the main loop loops over the values from each row and uses the stripped values for the new version zoopla_stripped.\n",
    "\n",
    "</details>"
   ]
  },
  {
   "cell_type": "markdown",
   "metadata": {},
   "source": [
    "<details><summary>Click here for another hint</summary>\n",
    "\n",
    "1. Before your for loop, create an empty list to store the new values that have been stripped of leading and trailing whitespaces. Name this list <b>zoopla_stripped</b>.\n",
    "2. Write a nested for loop, that is, a main for loop with another for loop inside it. The main loop loops over the rows in the <b>zoopla</b> list of lists. Inside this main for loop, create another empty list to store stripped values. Name it <b>row_stripped</b>. \n",
    "3. Now add a second for loop inside the main loop. The second loop loops over the values of each row and appends the stripped value to the <b>row_stripped</b> list. \n",
    "4. Finally, append each <b>row_stripped</b> to the <b>zoopla_stripped</b> list.\n",
    "\n",
    "</details>"
   ]
  },
  {
   "cell_type": "markdown",
   "metadata": {},
   "source": [
    "<details><summary>Click here for the solution</summary>\n",
    "\n",
    "<pre>\n",
    "zoopla_stripped = []\n",
    "\n",
    "for row in zoopla:\n",
    "    row_stripped = []\n",
    "    for value in row:\n",
    "        row_stripped.append(value.strip())\n",
    "\n",
    "    zoopla_stripped.append(row_stripped)\n",
    "</pre>\n",
    "</details>"
   ]
  },
  {
   "cell_type": "code",
   "execution_count": 60,
   "metadata": {},
   "outputs": [],
   "source": [
    "zoopla_stripped = []\n",
    "\n",
    "for row in zoopla:\n",
    "    row_stripped = []\n",
    "    for value in row:\n",
    "        row_stripped.append(value.strip())\n",
    "\n",
    "    zoopla_stripped.append(row_stripped)"
   ]
  },
  {
   "cell_type": "code",
   "execution_count": 61,
   "metadata": {},
   "outputs": [
    {
     "data": {
      "text/plain": [
       "['2167',\n",
       " '14 Stable Walk, London E1',\n",
       " '',\n",
       " '1',\n",
       " '1',\n",
       " 'Studio',\n",
       " 'Aldgate East',\n",
       " '0.2',\n",
       " \"Beautifully presented one bedroom studio in the phase Neroli House features a spacious living room with an open kitchen, with spacious double bedroom, built-in wardrobe and a large luxurious bathroom. Situated just 3 minutes' walk away from Aldgate East.\",\n",
       " 'Available immediately',\n",
       " 'https://www.zoopla.co.uk/to-rent/details/56147079']"
      ]
     },
     "execution_count": 61,
     "metadata": {},
     "output_type": "execute_result"
    }
   ],
   "source": [
    "zoopla_stripped[1]"
   ]
  },
  {
   "cell_type": "markdown",
   "metadata": {},
   "source": [
    "<br>\n",
    "\n",
    "### Task 6 - Turn the nested for loop into a function\n",
    "\n",
    "Now that we have the nested for loop, try and turn it into a function. Name the function **remove_whitespace**.\n",
    "\n",
    "Check that the function works and that the whitespaces are gone in the list it returns."
   ]
  },
  {
   "cell_type": "markdown",
   "metadata": {},
   "source": [
    "<details><summary>Click here for the solution</summary>\n",
    "\n",
    "<pre>\n",
    "def remove_whitespace(data):\n",
    "    data_stripped = []\n",
    "    for row in data:\n",
    "        row_stripped = []\n",
    "        for value in row:\n",
    "            row_stripped.append(value.strip())\n",
    "    data_stripped.append(row_stripped)\n",
    "    return data_stripped\n",
    "</pre>\n",
    "</details>"
   ]
  },
  {
   "cell_type": "code",
   "execution_count": 63,
   "metadata": {},
   "outputs": [],
   "source": [
    "def remove_whitespace(data):\n",
    "    data_stripped = []\n",
    "    for row in data:\n",
    "        row_stripped = []\n",
    "        for value in row:\n",
    "            row_stripped.append(value.strip())\n",
    "    data_stripped.append(row_stripped)\n",
    "    return data_stripped\n",
    "\n"
   ]
  },
  {
   "cell_type": "markdown",
   "metadata": {},
   "source": [
    "### 3) Missing values"
   ]
  },
  {
   "cell_type": "markdown",
   "metadata": {},
   "source": [
    "As a next step, we want to understand whether there are missing values in our data. Just as leading and trailing whitespaces can cause problems with our analysis, so can missing values. \n",
    "\n",
    "The first row in our dataset contains a missing value in the thrid 'column'. The third value, which represents the number of bedrooms is an empty string. If we later want to convert the string values to integers and floats to calculate statistics, Python will return an error message"
   ]
  },
  {
   "cell_type": "code",
   "execution_count": 66,
   "metadata": {},
   "outputs": [
    {
     "data": {
      "text/plain": [
       "['2167',\n",
       " '14 Stable Walk, London E1',\n",
       " '',\n",
       " '1',\n",
       " '1',\n",
       " 'Studio',\n",
       " 'Aldgate East',\n",
       " '0.2',\n",
       " \"Beautifully presented one bedroom studio in the phase Neroli House features a spacious living room with an open kitchen, with spacious double bedroom, built-in wardrobe and a large luxurious bathroom. Situated just 3 minutes' walk away from Aldgate East.\",\n",
       " 'Available immediately',\n",
       " 'https://www.zoopla.co.uk/to-rent/details/56147079']"
      ]
     },
     "execution_count": 66,
     "metadata": {},
     "output_type": "execute_result"
    }
   ],
   "source": [
    "zoopla_stripped[1]"
   ]
  },
  {
   "cell_type": "markdown",
   "metadata": {},
   "source": [
    "If we later want to convert the string values to integers and floats to calculate statistics, Python will return an error message"
   ]
  },
  {
   "cell_type": "code",
   "execution_count": 69,
   "metadata": {},
   "outputs": [
    {
     "ename": "ValueError",
     "evalue": "could not convert string to float: ''",
     "output_type": "error",
     "traceback": [
      "\u001b[1;31m---------------------------------------------------------------------------\u001b[0m",
      "\u001b[1;31mValueError\u001b[0m                                Traceback (most recent call last)",
      "\u001b[1;32m<ipython-input-69-f343758f6d80>\u001b[0m in \u001b[0;36m<module>\u001b[1;34m\u001b[0m\n\u001b[1;32m----> 1\u001b[1;33m \u001b[0mfloat\u001b[0m\u001b[1;33m(\u001b[0m\u001b[0mzoopla_stripped\u001b[0m\u001b[1;33m[\u001b[0m\u001b[1;36m1\u001b[0m\u001b[1;33m]\u001b[0m\u001b[1;33m[\u001b[0m\u001b[1;36m2\u001b[0m\u001b[1;33m]\u001b[0m\u001b[1;33m)\u001b[0m\u001b[1;33m\u001b[0m\u001b[1;33m\u001b[0m\u001b[0m\n\u001b[0m",
      "\u001b[1;31mValueError\u001b[0m: could not convert string to float: ''"
     ]
    }
   ],
   "source": [
    "float(zoopla_stripped[1][2])"
   ]
  },
  {
   "cell_type": "markdown",
   "metadata": {},
   "source": [
    "### Task 7 - Check for missing values\n",
    "\n",
    "We can apply the same logic to create a dictionary that counts the number of missing values for each column. \n",
    "\n",
    "The final output we want is a dictionary as below, where the keys are the columns of the rents dataset and the values represent the number of missing values per column."
   ]
  },
  {
   "cell_type": "markdown",
   "metadata": {},
   "source": [
    "L"
   ]
  },
  {
   "cell_type": "code",
   "execution_count": 50,
   "metadata": {},
   "outputs": [
    {
     "data": {
      "text/plain": [
       "{'Monthly Rent': 2,\n",
       " 'Location': 0,\n",
       " 'Bedrooms': 928,\n",
       " 'Bathrooms': 817,\n",
       " 'Receptions': 2968,\n",
       " 'Description': 0,\n",
       " 'Nearest Station': 0,\n",
       " 'Distance (miles)': 0,\n",
       " 'Long Description': 2,\n",
       " 'Available': 2621,\n",
       " 'Link': 0}"
      ]
     },
     "execution_count": 50,
     "metadata": {},
     "output_type": "execute_result"
    }
   ],
   "source": [
    "# final output of the missings dictionary\n",
    "\n",
    "missings"
   ]
  },
  {
   "cell_type": "markdown",
   "metadata": {},
   "source": [
    "The main idea is to test for each row which columns have missing values, i.e. an empty string, and increase the count each time we find an empty string for one of the columns.\n",
    "\n",
    "1. Create an empty dictionary called `missings`.\n",
    "2. Use a for loop to create a key for each column and set the initial value to 0.\n",
    "3. Loop over the rows of the rents dataset. Test whether each of the elements/columns from each row is missing (empty string: `''`) and increase the count by 1 for the corresponding column in the `missings` dictionary."
   ]
  },
  {
   "cell_type": "code",
   "execution_count": 27,
   "metadata": {},
   "outputs": [
    {
     "data": {
      "text/plain": [
       "{'Monthly Rent': 2,\n",
       " 'Location': 0,\n",
       " 'Bedrooms': 928,\n",
       " 'Bathrooms': 817,\n",
       " 'Receptions': 2968,\n",
       " 'Description': 0,\n",
       " 'Nearest Station': 0,\n",
       " 'Distance (miles)': 0,\n",
       " 'Long Description': 2,\n",
       " 'Available': 2621,\n",
       " 'Link': 0}"
      ]
     },
     "execution_count": 27,
     "metadata": {},
     "output_type": "execute_result"
    }
   ],
   "source": [
    "missings = {}\n",
    "\n",
    "for col in columns:\n",
    "    missings[col] = 0\n",
    "\n",
    "for rent in rents_stripped:\n",
    "    for i in range(len(rent)):\n",
    "        if rent[i] == '':\n",
    "            missings[columns[i]] += 1\n",
    "            \n",
    "missings"
   ]
  },
  {
   "cell_type": "markdown",
   "metadata": {},
   "source": [
    "### Challenge yourself - List comprehension to remove missing values (optional)"
   ]
  },
  {
   "cell_type": "markdown",
   "metadata": {},
   "source": [
    "Recall the example on list comprehension above. Try and remove the lists with missing values using list comprehension."
   ]
  },
  {
   "cell_type": "markdown",
   "metadata": {},
   "source": [
    "First, let's write a for loop to count the number of lists within rents_stripped that has missing values"
   ]
  },
  {
   "cell_type": "code",
   "execution_count": 28,
   "metadata": {},
   "outputs": [],
   "source": [
    "# Count the number of lists with missing values\n",
    "count = 0\n",
    "for row in rents_stripped:\n",
    "    if '' in row:\n",
    "        count += 1"
   ]
  },
  {
   "cell_type": "code",
   "execution_count": 29,
   "metadata": {},
   "outputs": [
    {
     "data": {
      "text/plain": [
       "5400"
      ]
     },
     "execution_count": 29,
     "metadata": {},
     "output_type": "execute_result"
    }
   ],
   "source": [
    "count"
   ]
  },
  {
   "cell_type": "markdown",
   "metadata": {},
   "source": [
    "Create a new list of lists called 'rents_nomiss' to store the lists without any missing values. Try and apply list comprehension to shorten your code."
   ]
  },
  {
   "cell_type": "code",
   "execution_count": 30,
   "metadata": {},
   "outputs": [],
   "source": [
    "#use list comprehension to create rents_nomiss\n",
    "rents_nomiss = [x for x in rents_stripped if '' not in x]"
   ]
  },
  {
   "cell_type": "markdown",
   "metadata": {},
   "source": [
    "Now, let's check the total number of lists in the list again to ensure we removed the lists correctly. Do you get 4569?"
   ]
  },
  {
   "cell_type": "code",
   "execution_count": 31,
   "metadata": {
    "scrolled": true
   },
   "outputs": [
    {
     "data": {
      "text/plain": [
       "4569"
      ]
     },
     "execution_count": 31,
     "metadata": {},
     "output_type": "execute_result"
    }
   ],
   "source": [
    "len(rents_nomiss)"
   ]
  },
  {
   "cell_type": "markdown",
   "metadata": {},
   "source": [
    "### Task 5 -  Extract the rental prices"
   ]
  },
  {
   "cell_type": "markdown",
   "metadata": {},
   "source": [
    "Extract the rental prices (1st element in each list in rents_nomiss) to a new list. Name it rent_prices"
   ]
  },
  {
   "cell_type": "code",
   "execution_count": 32,
   "metadata": {},
   "outputs": [],
   "source": [
    "rent_prices = []\n",
    "for row in rents_nomiss:\n",
    "    rent_prices.append(row[0])"
   ]
  },
  {
   "cell_type": "markdown",
   "metadata": {},
   "source": [
    "Print the data type of the first element in rent_prices"
   ]
  },
  {
   "cell_type": "code",
   "execution_count": 34,
   "metadata": {},
   "outputs": [
    {
     "name": "stdout",
     "output_type": "stream",
     "text": [
      "<class 'str'>\n"
     ]
    }
   ],
   "source": [
    "print(type(rent_prices[0]))"
   ]
  },
  {
   "cell_type": "markdown",
   "metadata": {},
   "source": [
    "Now, let's convert the strings to floats for all the elements in rent_prices. We want to convert these strings to numerical values so that it is easier for us to do calculations or further analysis. Recall what we did in the third python workshop on converting data types."
   ]
  },
  {
   "cell_type": "code",
   "execution_count": 35,
   "metadata": {},
   "outputs": [],
   "source": [
    "for i in range(0, len(rent_prices)):\n",
    "    rent_prices[i] = float(rent_prices[i])"
   ]
  },
  {
   "cell_type": "markdown",
   "metadata": {},
   "source": [
    "Check the data type of the first element again to verify your result"
   ]
  },
  {
   "cell_type": "code",
   "execution_count": 36,
   "metadata": {},
   "outputs": [
    {
     "name": "stdout",
     "output_type": "stream",
     "text": [
      "<class 'float'>\n"
     ]
    }
   ],
   "source": [
    "print(type(rent_prices[0]))"
   ]
  },
  {
   "cell_type": "markdown",
   "metadata": {},
   "source": [
    "### Task 6 - Finding maximum rental price"
   ]
  },
  {
   "cell_type": "markdown",
   "metadata": {},
   "source": [
    "Find the maximum rental price from the rent_prices list"
   ]
  },
  {
   "cell_type": "markdown",
   "metadata": {},
   "source": [
    "Try and implement a loop:"
   ]
  },
  {
   "cell_type": "code",
   "execution_count": 37,
   "metadata": {},
   "outputs": [
    {
     "name": "stdout",
     "output_type": "stream",
     "text": [
      "54167.0\n"
     ]
    }
   ],
   "source": [
    "max_rent = rent_prices[0]\n",
    "\n",
    "for element in rent_prices[1:]:\n",
    "    if element > max_rent:\n",
    "        max_rent = element\n",
    "\n",
    "print(max_rent)"
   ]
  },
  {
   "cell_type": "markdown",
   "metadata": {},
   "source": [
    "Then check using the max() function directly"
   ]
  },
  {
   "cell_type": "code",
   "execution_count": 38,
   "metadata": {},
   "outputs": [
    {
     "data": {
      "text/plain": [
       "54167.0"
      ]
     },
     "execution_count": 38,
     "metadata": {},
     "output_type": "execute_result"
    }
   ],
   "source": [
    "max(rent_prices)"
   ]
  },
  {
   "cell_type": "markdown",
   "metadata": {},
   "source": [
    "### Task 7 - Compute summary statistics"
   ]
  },
  {
   "cell_type": "markdown",
   "metadata": {},
   "source": [
    "Write a function to calculate the mean, median and std deviation of any list. Use stdev, mean and median from the statistics library to help you."
   ]
  },
  {
   "cell_type": "code",
   "execution_count": 39,
   "metadata": {},
   "outputs": [],
   "source": [
    "def summary(a_list):\n",
    "    from statistics import stdev, mean, median\n",
    "    mean_ = mean(a_list)\n",
    "    stdev_ = stdev(a_list)\n",
    "    median_ = median(a_list)\n",
    "    summary = f\"Mean: {mean_:.2f}; Median: {median_:.2f}; Std Dev: {stdev_:.2f}\"\n",
    "    return summary"
   ]
  },
  {
   "cell_type": "markdown",
   "metadata": {},
   "source": [
    "Now, you may also try to incorporate a dictionary in the output to store the mean, median and sd values respectively"
   ]
  },
  {
   "cell_type": "code",
   "execution_count": 40,
   "metadata": {},
   "outputs": [
    {
     "data": {
      "text/plain": [
       "{'mean': '2.20', 'median': '2.00', 'std': '0.84'}"
      ]
     },
     "execution_count": 40,
     "metadata": {},
     "output_type": "execute_result"
    }
   ],
   "source": [
    "def summary(a_list):\n",
    "    from statistics import stdev, mean, median\n",
    "    return {stat: \"{:.2f}\".format(func(a_list)) for stat, func in zip(['mean', 'median', 'std'], [mean, median, stdev])}\n",
    "\n",
    "summary([1, 2, 2, 3, 3])"
   ]
  },
  {
   "cell_type": "code",
   "execution_count": 41,
   "metadata": {},
   "outputs": [
    {
     "data": {
      "text/plain": [
       "{'mean': '2.20', 'median': '2.00', 'std': '0.84'}"
      ]
     },
     "execution_count": 41,
     "metadata": {},
     "output_type": "execute_result"
    }
   ],
   "source": [
    "def summary(a_list):\n",
    "    from statistics import stdev, mean, median\n",
    "    summary = {}\n",
    "    summary['mean'] = \"{:.2f}\".format(mean(a_list))\n",
    "    summary['median'] = \"{:.2f}\".format(median(a_list))\n",
    "    summary['std'] = \"{:.2f}\".format(stdev(a_list))\n",
    "    return summary\n",
    "\n",
    "summary([1, 2, 2, 3, 3])"
   ]
  },
  {
   "cell_type": "markdown",
   "metadata": {},
   "source": [
    "Run your function on the rent_prices list to obtain the summary statistics"
   ]
  },
  {
   "cell_type": "code",
   "execution_count": 42,
   "metadata": {
    "scrolled": true
   },
   "outputs": [
    {
     "data": {
      "text/plain": [
       "{'mean': '2827.43', 'median': '2250.00', 'std': '2372.26'}"
      ]
     },
     "execution_count": 42,
     "metadata": {},
     "output_type": "execute_result"
    }
   ],
   "source": [
    "summary(rent_prices)"
   ]
  },
  {
   "cell_type": "markdown",
   "metadata": {},
   "source": [
    "### Task 8 -  Use a counter to find the 10 most common property types\n",
    "\n",
    "1. Search online how to use 'Counter' to count the occurence of elements from a collection.\n",
    "2. Use a counter to count the occurences of the different property types (e.g. '2 bed flat') based on the description column in rents_nomiss.\n",
    "3. Select the 10 most common property types. There is a counter method to do this. Search online on how to do this.\n",
    "4. Select only the property types and not the counts and store in a list named top10_property_types."
   ]
  },
  {
   "cell_type": "code",
   "execution_count": 43,
   "metadata": {},
   "outputs": [
    {
     "data": {
      "text/plain": [
       "[('2 bed flat', 1723),\n",
       " ('1 bed flat', 1689),\n",
       " ('3 bed flat', 530),\n",
       " ('4 bed flat', 123),\n",
       " ('2 bed property', 38),\n",
       " ('1 bed property', 37),\n",
       " ('2 bed maisonette', 33),\n",
       " ('2 bed duplex', 33),\n",
       " ('3 bed maisonette', 31),\n",
       " ('4 bed terraced house', 25)]"
      ]
     },
     "execution_count": 43,
     "metadata": {},
     "output_type": "execute_result"
    }
   ],
   "source": [
    "from collections import Counter\n",
    "\n",
    "counter = Counter([rent[5] for rent in rents_nomiss])\n",
    "\n",
    "counter.most_common(10)"
   ]
  },
  {
   "cell_type": "code",
   "execution_count": 44,
   "metadata": {},
   "outputs": [
    {
     "data": {
      "text/plain": [
       "['2 bed flat',\n",
       " '1 bed flat',\n",
       " '3 bed flat',\n",
       " '4 bed flat',\n",
       " '2 bed property',\n",
       " '1 bed property',\n",
       " '2 bed maisonette',\n",
       " '2 bed duplex',\n",
       " '3 bed maisonette',\n",
       " '4 bed terraced house']"
      ]
     },
     "execution_count": 44,
     "metadata": {},
     "output_type": "execute_result"
    }
   ],
   "source": [
    "top10_property_types = []\n",
    "\n",
    "for item in counter.most_common(10):\n",
    "    top10_property_types.append(item[0])\n",
    "\n",
    "top10_property_types"
   ]
  },
  {
   "cell_type": "code",
   "execution_count": 45,
   "metadata": {},
   "outputs": [
    {
     "data": {
      "text/plain": [
       "['2 bed flat',\n",
       " '1 bed flat',\n",
       " '3 bed flat',\n",
       " '4 bed flat',\n",
       " '2 bed property',\n",
       " '1 bed property',\n",
       " '2 bed maisonette',\n",
       " '2 bed duplex',\n",
       " '3 bed maisonette',\n",
       " '4 bed terraced house']"
      ]
     },
     "execution_count": 45,
     "metadata": {},
     "output_type": "execute_result"
    }
   ],
   "source": [
    "top10_property_types = [item[0] for item in counter.most_common(10)]\n",
    "top10_property_types"
   ]
  },
  {
   "cell_type": "code",
   "execution_count": 46,
   "metadata": {},
   "outputs": [
    {
     "data": {
      "text/plain": [
       "['2 bed flat',\n",
       " '1 bed flat',\n",
       " '3 bed flat',\n",
       " '4 bed flat',\n",
       " '2 bed property',\n",
       " '1 bed property',\n",
       " '2 bed maisonette',\n",
       " '2 bed duplex',\n",
       " '3 bed maisonette',\n",
       " '4 bed terraced house']"
      ]
     },
     "execution_count": 46,
     "metadata": {},
     "output_type": "execute_result"
    }
   ],
   "source": [
    "top10_property_types = [key for key, value in counter.most_common(10)]\n",
    "top10_property_types"
   ]
  },
  {
   "cell_type": "markdown",
   "metadata": {},
   "source": [
    "### Task 9 - Calculate statistics for most common property types\n",
    "\n",
    "1. Use the summary function to calculate the statistics for each of the 10 most common property types. You may use a for loop to make things easier for you.\n",
    "2. Which has the highest and lowest median/mean price? Which property type shows the highest spread?"
   ]
  },
  {
   "cell_type": "code",
   "execution_count": 47,
   "metadata": {},
   "outputs": [],
   "source": [
    "# getting a version with stripped property type and converted prices\n",
    "rents_clean = []\n",
    "for rent in rents_nomiss:\n",
    "    rents_clean.append(rent)\n",
    "    rents_clean[-1][0] = float(rents_clean[-1][0])"
   ]
  },
  {
   "cell_type": "code",
   "execution_count": 48,
   "metadata": {},
   "outputs": [
    {
     "data": {
      "text/plain": [
       "['2 bed flat',\n",
       " '1 bed flat',\n",
       " '3 bed flat',\n",
       " '4 bed flat',\n",
       " '2 bed property',\n",
       " '1 bed property',\n",
       " '2 bed maisonette',\n",
       " '2 bed duplex',\n",
       " '3 bed maisonette',\n",
       " '4 bed terraced house']"
      ]
     },
     "execution_count": 48,
     "metadata": {},
     "output_type": "execute_result"
    }
   ],
   "source": [
    "top10_property_types"
   ]
  },
  {
   "cell_type": "code",
   "execution_count": 49,
   "metadata": {
    "scrolled": true
   },
   "outputs": [
    {
     "name": "stdout",
     "output_type": "stream",
     "text": [
      "2 bed flat\n",
      "{'mean': '2784.52', 'median': '2383.00', 'std': '1420.79'}\n",
      "1 bed flat\n",
      "{'mean': '1974.12', 'median': '1800.00', 'std': '677.68'}\n",
      "3 bed flat\n",
      "{'mean': '4319.76', 'median': '3499.00', 'std': '2860.35'}\n",
      "4 bed flat\n",
      "{'mean': '6229.89', 'median': '3575.00', 'std': '8208.86'}\n",
      "2 bed property\n",
      "{'mean': '2702.08', 'median': '2496.00', 'std': '1346.89'}\n",
      "1 bed property\n",
      "{'mean': '1940.00', 'median': '1733.00', 'std': '569.98'}\n",
      "2 bed maisonette\n",
      "{'mean': '2249.52', 'median': '2100.00', 'std': '476.70'}\n",
      "2 bed duplex\n",
      "{'mean': '3123.88', 'median': '2383.00', 'std': '2518.30'}\n",
      "3 bed maisonette\n",
      "{'mean': '2350.65', 'median': '2145.00', 'std': '474.33'}\n",
      "4 bed terraced house\n",
      "{'mean': '3990.20', 'median': '3120.00', 'std': '3452.95'}\n"
     ]
    }
   ],
   "source": [
    "for type_ in top10_property_types:\n",
    "    print(type_)\n",
    "    print(summary([float(rent[0]) for rent in rents_clean if rent[5] == type_]))"
   ]
  },
  {
   "cell_type": "markdown",
   "metadata": {},
   "source": [
    "### Good job on completing the notebook!"
   ]
  },
  {
   "cell_type": "markdown",
   "metadata": {},
   "source": [
    "Now that you have worked through the notebook, we hope that you have learnt some new techniques in Python, while consolidating the knowledge from our Python Fundamentals series. Feel free to explore the dataset further and share your results!"
   ]
  },
  {
   "cell_type": "code",
   "execution_count": null,
   "metadata": {},
   "outputs": [],
   "source": []
  }
 ],
 "metadata": {
  "kernelspec": {
   "display_name": "Python 3",
   "language": "python",
   "name": "python3"
  },
  "language_info": {
   "codemirror_mode": {
    "name": "ipython",
    "version": 3
   },
   "file_extension": ".py",
   "mimetype": "text/x-python",
   "name": "python",
   "nbconvert_exporter": "python",
   "pygments_lexer": "ipython3",
   "version": "3.8.8"
  }
 },
 "nbformat": 4,
 "nbformat_minor": 4
}
